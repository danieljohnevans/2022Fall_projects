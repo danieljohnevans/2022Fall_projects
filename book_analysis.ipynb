{
 "cells": [
  {
   "cell_type": "code",
   "execution_count": 1,
   "metadata": {},
   "outputs": [],
   "source": [
    "import pandas as pd\n",
    "import numpy as np\n",
    "import json"
   ]
  },
  {
   "cell_type": "code",
   "execution_count": 2,
   "metadata": {},
   "outputs": [],
   "source": [
    "# chars_df = pd.read_pickle('file_name.pickle')\n",
    "# chars_df.head()"
   ]
  },
  {
   "cell_type": "code",
   "execution_count": 3,
   "metadata": {},
   "outputs": [],
   "source": [
    "# chars_df['char_gender'].value_counts()"
   ]
  },
  {
   "cell_type": "code",
   "execution_count": 4,
   "metadata": {
    "pycharm": {
     "name": "#%%\n"
    }
   },
   "outputs": [],
   "source": [
    "# f_chars = chars_df.loc[chars_df['char_gender'] == 'she/her']\n",
    "# print(f_chars.shape)\n",
    "\n",
    "# m_chars = chars_df.loc[chars_df['char_gender'] == 'he/him/his']\n",
    "# print(m_chars.shape)\n",
    "\n",
    "# nb = ['they/them/their','ze/zem/zir/hir']\n",
    "# nb_chars = chars_df[chars_df.char_gender.isin(nb)]\n",
    "# print(nb_chars.shape)"
   ]
  },
  {
   "cell_type": "markdown",
   "metadata": {
    "pycharm": {
     "name": "#%% md\n"
    }
   },
   "source": [
    "### Exploratory anaysis with one book\n",
    "#### The Left Hand of Darkness\n",
    "The next few cells are focused on one book: _The Left Hand of Darkness_ by Ursula K. LeGuin. This is a famous example of a book with characters who can change sex as an adult. In this book, however, she refers to the main character with male pronouns. We want to step through a bit of basic verification to see what this looks like. The three characters we are pulling are Genly, an exclusively male character, Estraven, an alien who can change sex but uses male pronouns in the book, and King Argaven, a \"male\" alien who carries a pregnancy."
   ]
  },
  {
   "cell_type": "code",
   "execution_count": 5,
   "metadata": {
    "pycharm": {
     "name": "#%%\n"
    }
   },
   "outputs": [],
   "source": [
    "# dont need\n",
    "# lhd_book = pd.read_json('data/dan_booknlp/mdp.39015052467530/mdp.39015052467530.book')\n",
    "# # lhd_book.reset_index()\n",
    "# lhd_book"
   ]
  },
  {
   "cell_type": "code",
   "execution_count": 6,
   "metadata": {
    "pycharm": {
     "name": "#%%\n"
    }
   },
   "outputs": [
    {
     "data": {
      "text/html": [
       "<div>\n",
       "<style scoped>\n",
       "    .dataframe tbody tr th:only-of-type {\n",
       "        vertical-align: middle;\n",
       "    }\n",
       "\n",
       "    .dataframe tbody tr th {\n",
       "        vertical-align: top;\n",
       "    }\n",
       "\n",
       "    .dataframe thead th {\n",
       "        text-align: right;\n",
       "    }\n",
       "</style>\n",
       "<table border=\"1\" class=\"dataframe\">\n",
       "  <thead>\n",
       "    <tr style=\"text-align: right;\">\n",
       "      <th></th>\n",
       "      <th>agent</th>\n",
       "      <th>patient</th>\n",
       "      <th>mod</th>\n",
       "      <th>poss</th>\n",
       "      <th>id</th>\n",
       "      <th>count</th>\n",
       "      <th>g.inference.he/him/his</th>\n",
       "      <th>g.inference.she/her</th>\n",
       "      <th>g.inference.they/them/their</th>\n",
       "      <th>g.inference.xe/xem/xyr/xir</th>\n",
       "      <th>g.inference.ze/zem/zir/hir</th>\n",
       "      <th>g.argmax</th>\n",
       "      <th>g.max</th>\n",
       "      <th>g.total</th>\n",
       "      <th>mentions.proper</th>\n",
       "      <th>mentions.common</th>\n",
       "      <th>mentions.pronoun</th>\n",
       "      <th>g</th>\n",
       "    </tr>\n",
       "  </thead>\n",
       "  <tbody>\n",
       "    <tr>\n",
       "      <th>0</th>\n",
       "      <td>[{'w': 'told', 'i': 337}, {'w': 'told', 'i': 4...</td>\n",
       "      <td>[{'w': 'taught', 'i': 344}, {'w': 'lost', 'i':...</td>\n",
       "      <td>[{'w': 'ona', 'i': 442}, {'w': 'sure', 'i': 44...</td>\n",
       "      <td>[{'w': 'report', 'i': 333}, {'w': 'homeworld',...</td>\n",
       "      <td>0</td>\n",
       "      <td>2784</td>\n",
       "      <td>0.805</td>\n",
       "      <td>0.010</td>\n",
       "      <td>0.154</td>\n",
       "      <td>0.012</td>\n",
       "      <td>0.019</td>\n",
       "      <td>he/him/his</td>\n",
       "      <td>0.805</td>\n",
       "      <td>391.766</td>\n",
       "      <td>[]</td>\n",
       "      <td>[]</td>\n",
       "      <td>[{'c': 1512, 'n': 'I'}, {'c': 419, 'n': 'me'},...</td>\n",
       "      <td>NaN</td>\n",
       "    </tr>\n",
       "    <tr>\n",
       "      <th>1</th>\n",
       "      <td>[{'w': 'explained', 'i': 3066}, {'w': 'stood',...</td>\n",
       "      <td>[{'w': 'forcing', 'i': 4333}, {'w': 'follow', ...</td>\n",
       "      <td>[{'w': 'obliging', 'i': 3078}, {'w': 'famous',...</td>\n",
       "      <td>[{'w': 'kindness', 'i': 3120}, {'w': 'house', ...</td>\n",
       "      <td>385</td>\n",
       "      <td>731</td>\n",
       "      <td>0.805</td>\n",
       "      <td>0.112</td>\n",
       "      <td>0.083</td>\n",
       "      <td>0.000</td>\n",
       "      <td>0.000</td>\n",
       "      <td>he/him/his</td>\n",
       "      <td>0.805</td>\n",
       "      <td>1100073.796</td>\n",
       "      <td>[{'c': 192, 'n': 'Estraven'}, {'c': 11, 'n': '...</td>\n",
       "      <td>[]</td>\n",
       "      <td>[{'c': 157, 'n': 'he'}, {'c': 91, 'n': 'his'},...</td>\n",
       "      <td>NaN</td>\n",
       "    </tr>\n",
       "    <tr>\n",
       "      <th>2</th>\n",
       "      <td>[{'w': 'want', 'i': 13840}, {'w': 'have', 'i':...</td>\n",
       "      <td>[{'w': 'have', 'i': 2738}, {'w': 'believe', 'i...</td>\n",
       "      <td>[{'w': 'insane', 'i': 6215}, {'w': 'refugee', ...</td>\n",
       "      <td>[{'w': 'box', 'i': 13818}, {'w': 'machine', 'i...</td>\n",
       "      <td>384</td>\n",
       "      <td>231</td>\n",
       "      <td>0.811</td>\n",
       "      <td>0.113</td>\n",
       "      <td>0.077</td>\n",
       "      <td>0.000</td>\n",
       "      <td>0.000</td>\n",
       "      <td>he/him/his</td>\n",
       "      <td>0.811</td>\n",
       "      <td>4600011.839</td>\n",
       "      <td>[{'c': 46, 'n': 'Mr. Ai'}, {'c': 6, 'n': 'the ...</td>\n",
       "      <td>[]</td>\n",
       "      <td>[{'c': 38, 'n': 'you'}, {'c': 34, 'n': 'I'}, {...</td>\n",
       "      <td>NaN</td>\n",
       "    </tr>\n",
       "    <tr>\n",
       "      <th>3</th>\n",
       "      <td>[{'w': 'knows', 'i': 6268}, {'w': 'believes', ...</td>\n",
       "      <td>[{'w': 'tell', 'i': 6240}, {'w': 'told', 'i': ...</td>\n",
       "      <td>[{'w': 'king', 'i': 6318}, {'w': 'member', 'i'...</td>\n",
       "      <td>[{'w': 'power', 'i': 6344}, {'w': 'kingdom', '...</td>\n",
       "      <td>397</td>\n",
       "      <td>194</td>\n",
       "      <td>0.856</td>\n",
       "      <td>0.042</td>\n",
       "      <td>0.102</td>\n",
       "      <td>0.000</td>\n",
       "      <td>0.000</td>\n",
       "      <td>he/him/his</td>\n",
       "      <td>0.856</td>\n",
       "      <td>600017.951</td>\n",
       "      <td>[{'c': 28, 'n': 'Argaven'}, {'c': 25, 'n': 'Ka...</td>\n",
       "      <td>[]</td>\n",
       "      <td>[{'c': 25, 'n': 'his'}, {'c': 24, 'n': 'he'}, ...</td>\n",
       "      <td>NaN</td>\n",
       "    </tr>\n",
       "    <tr>\n",
       "      <th>4</th>\n",
       "      <td>[{'w': 'ascends', 'i': 1424}, {'w': 'mounts', ...</td>\n",
       "      <td>[{'w': 'awaits', 'i': 1574}, {'w': 'Trust', 'i...</td>\n",
       "      <td>[{'w': 'patriot', 'i': 6805}, {'w': 'sure', 'i...</td>\n",
       "      <td>[{'w': 'presence', 'i': 914}, {'w': 'Hearths',...</td>\n",
       "      <td>605</td>\n",
       "      <td>179</td>\n",
       "      <td>1.000</td>\n",
       "      <td>0.000</td>\n",
       "      <td>0.000</td>\n",
       "      <td>0.000</td>\n",
       "      <td>0.000</td>\n",
       "      <td>he/him/his</td>\n",
       "      <td>1.000</td>\n",
       "      <td>44.000</td>\n",
       "      <td>[]</td>\n",
       "      <td>[{'c': 58, 'n': 'the king'}, {'c': 13, 'n': 'T...</td>\n",
       "      <td>[{'c': 25, 'n': 'I'}, {'c': 16, 'n': 'his'}, {...</td>\n",
       "      <td>NaN</td>\n",
       "    </tr>\n",
       "  </tbody>\n",
       "</table>\n",
       "</div>"
      ],
      "text/plain": [
       "                                               agent  \\\n",
       "0  [{'w': 'told', 'i': 337}, {'w': 'told', 'i': 4...   \n",
       "1  [{'w': 'explained', 'i': 3066}, {'w': 'stood',...   \n",
       "2  [{'w': 'want', 'i': 13840}, {'w': 'have', 'i':...   \n",
       "3  [{'w': 'knows', 'i': 6268}, {'w': 'believes', ...   \n",
       "4  [{'w': 'ascends', 'i': 1424}, {'w': 'mounts', ...   \n",
       "\n",
       "                                             patient  \\\n",
       "0  [{'w': 'taught', 'i': 344}, {'w': 'lost', 'i':...   \n",
       "1  [{'w': 'forcing', 'i': 4333}, {'w': 'follow', ...   \n",
       "2  [{'w': 'have', 'i': 2738}, {'w': 'believe', 'i...   \n",
       "3  [{'w': 'tell', 'i': 6240}, {'w': 'told', 'i': ...   \n",
       "4  [{'w': 'awaits', 'i': 1574}, {'w': 'Trust', 'i...   \n",
       "\n",
       "                                                 mod  \\\n",
       "0  [{'w': 'ona', 'i': 442}, {'w': 'sure', 'i': 44...   \n",
       "1  [{'w': 'obliging', 'i': 3078}, {'w': 'famous',...   \n",
       "2  [{'w': 'insane', 'i': 6215}, {'w': 'refugee', ...   \n",
       "3  [{'w': 'king', 'i': 6318}, {'w': 'member', 'i'...   \n",
       "4  [{'w': 'patriot', 'i': 6805}, {'w': 'sure', 'i...   \n",
       "\n",
       "                                                poss   id  count  \\\n",
       "0  [{'w': 'report', 'i': 333}, {'w': 'homeworld',...    0   2784   \n",
       "1  [{'w': 'kindness', 'i': 3120}, {'w': 'house', ...  385    731   \n",
       "2  [{'w': 'box', 'i': 13818}, {'w': 'machine', 'i...  384    231   \n",
       "3  [{'w': 'power', 'i': 6344}, {'w': 'kingdom', '...  397    194   \n",
       "4  [{'w': 'presence', 'i': 914}, {'w': 'Hearths',...  605    179   \n",
       "\n",
       "   g.inference.he/him/his  g.inference.she/her  g.inference.they/them/their  \\\n",
       "0                   0.805                0.010                        0.154   \n",
       "1                   0.805                0.112                        0.083   \n",
       "2                   0.811                0.113                        0.077   \n",
       "3                   0.856                0.042                        0.102   \n",
       "4                   1.000                0.000                        0.000   \n",
       "\n",
       "   g.inference.xe/xem/xyr/xir  g.inference.ze/zem/zir/hir    g.argmax  g.max  \\\n",
       "0                       0.012                       0.019  he/him/his  0.805   \n",
       "1                       0.000                       0.000  he/him/his  0.805   \n",
       "2                       0.000                       0.000  he/him/his  0.811   \n",
       "3                       0.000                       0.000  he/him/his  0.856   \n",
       "4                       0.000                       0.000  he/him/his  1.000   \n",
       "\n",
       "       g.total                                    mentions.proper  \\\n",
       "0      391.766                                                 []   \n",
       "1  1100073.796  [{'c': 192, 'n': 'Estraven'}, {'c': 11, 'n': '...   \n",
       "2  4600011.839  [{'c': 46, 'n': 'Mr. Ai'}, {'c': 6, 'n': 'the ...   \n",
       "3   600017.951  [{'c': 28, 'n': 'Argaven'}, {'c': 25, 'n': 'Ka...   \n",
       "4       44.000                                                 []   \n",
       "\n",
       "                                     mentions.common  \\\n",
       "0                                                 []   \n",
       "1                                                 []   \n",
       "2                                                 []   \n",
       "3                                                 []   \n",
       "4  [{'c': 58, 'n': 'the king'}, {'c': 13, 'n': 'T...   \n",
       "\n",
       "                                    mentions.pronoun   g  \n",
       "0  [{'c': 1512, 'n': 'I'}, {'c': 419, 'n': 'me'},... NaN  \n",
       "1  [{'c': 157, 'n': 'he'}, {'c': 91, 'n': 'his'},... NaN  \n",
       "2  [{'c': 38, 'n': 'you'}, {'c': 34, 'n': 'I'}, {... NaN  \n",
       "3  [{'c': 25, 'n': 'his'}, {'c': 24, 'n': 'he'}, ... NaN  \n",
       "4  [{'c': 25, 'n': 'I'}, {'c': 16, 'n': 'his'}, {... NaN  "
      ]
     },
     "execution_count": 6,
     "metadata": {},
     "output_type": "execute_result"
    }
   ],
   "source": [
    "# read in json, normalize data\n",
    "t = open('data/dan_booknlp/mdp.39015052467530/mdp.39015052467530.book')\n",
    "temp_json = json.load(t)\n",
    "lhd_book = pd.concat([pd.DataFrame(temp_json), \n",
    "                pd.json_normalize(temp_json['characters'])], \n",
    "                axis=1)\n",
    "\n",
    "#drop characters column\n",
    "lhd_book = lhd_book.drop('characters', axis=1)\n",
    "lhd_book.head()"
   ]
  },
  {
   "cell_type": "code",
   "execution_count": 7,
   "metadata": {
    "pycharm": {
     "name": "#%%\n"
    }
   },
   "outputs": [],
   "source": [
    "lhd_entit = pd.read_csv('data/dan_booknlp/mdp.39015052467530/mdp.39015052467530.entities', sep='\\t')"
   ]
  },
  {
   "cell_type": "code",
   "execution_count": 8,
   "metadata": {
    "pycharm": {
     "name": "#%%\n"
    }
   },
   "outputs": [
    {
     "data": {
      "text/html": [
       "<div>\n",
       "<style scoped>\n",
       "    .dataframe tbody tr th:only-of-type {\n",
       "        vertical-align: middle;\n",
       "    }\n",
       "\n",
       "    .dataframe tbody tr th {\n",
       "        vertical-align: top;\n",
       "    }\n",
       "\n",
       "    .dataframe thead th {\n",
       "        text-align: right;\n",
       "    }\n",
       "</style>\n",
       "<table border=\"1\" class=\"dataframe\">\n",
       "  <thead>\n",
       "    <tr style=\"text-align: right;\">\n",
       "      <th></th>\n",
       "      <th>COREF</th>\n",
       "      <th>start_token</th>\n",
       "      <th>end_token</th>\n",
       "      <th>prop</th>\n",
       "      <th>cat</th>\n",
       "      <th>text</th>\n",
       "    </tr>\n",
       "  </thead>\n",
       "  <tbody>\n",
       "    <tr>\n",
       "      <th>0</th>\n",
       "      <td>584</td>\n",
       "      <td>6</td>\n",
       "      <td>22</td>\n",
       "      <td>NOM</td>\n",
       "      <td>FAC</td>\n",
       "      <td>NIVERS THE UN CHIGAN • LIBRE BRARIES THE LEFT ...</td>\n",
       "    </tr>\n",
       "    <tr>\n",
       "      <th>1</th>\n",
       "      <td>1</td>\n",
       "      <td>24</td>\n",
       "      <td>32</td>\n",
       "      <td>PROP</td>\n",
       "      <td>FAC</td>\n",
       "      <td>URSULA K. LEGUIN WALKER AND COMPANY New York UGL</td>\n",
       "    </tr>\n",
       "    <tr>\n",
       "      <th>2</th>\n",
       "      <td>374</td>\n",
       "      <td>48</td>\n",
       "      <td>48</td>\n",
       "      <td>PROP</td>\n",
       "      <td>PER</td>\n",
       "      <td>Ursula</td>\n",
       "    </tr>\n",
       "    <tr>\n",
       "      <th>3</th>\n",
       "      <td>2</td>\n",
       "      <td>50</td>\n",
       "      <td>50</td>\n",
       "      <td>PROP</td>\n",
       "      <td>GPE</td>\n",
       "      <td>LeGuin</td>\n",
       "    </tr>\n",
       "    <tr>\n",
       "      <th>4</th>\n",
       "      <td>585</td>\n",
       "      <td>96</td>\n",
       "      <td>97</td>\n",
       "      <td>NOM</td>\n",
       "      <td>PER</td>\n",
       "      <td>the Publisher</td>\n",
       "    </tr>\n",
       "  </tbody>\n",
       "</table>\n",
       "</div>"
      ],
      "text/plain": [
       "   COREF  start_token  end_token  prop  cat  \\\n",
       "0    584            6         22   NOM  FAC   \n",
       "1      1           24         32  PROP  FAC   \n",
       "2    374           48         48  PROP  PER   \n",
       "3      2           50         50  PROP  GPE   \n",
       "4    585           96         97   NOM  PER   \n",
       "\n",
       "                                                text  \n",
       "0  NIVERS THE UN CHIGAN • LIBRE BRARIES THE LEFT ...  \n",
       "1   URSULA K. LEGUIN WALKER AND COMPANY New York UGL  \n",
       "2                                             Ursula  \n",
       "3                                             LeGuin  \n",
       "4                                      the Publisher  "
      ]
     },
     "execution_count": 8,
     "metadata": {},
     "output_type": "execute_result"
    }
   ],
   "source": [
    "lhd_entit.head()"
   ]
  },
  {
   "cell_type": "code",
   "execution_count": 9,
   "metadata": {
    "pycharm": {
     "name": "#%%\n"
    }
   },
   "outputs": [
    {
     "data": {
      "text/plain": [
       "0        NIVERS THE UN CHIGAN • LIBRE BRARIES THE LEFT ...\n",
       "1         URSULA K. LEGUIN WALKER AND COMPANY New York UGL\n",
       "2                                                   Ursula\n",
       "3                                                   LeGuin\n",
       "4                                            the Publisher\n",
       "                               ...                        \n",
       "15023                                          Onnetherhad\n",
       "15024                                               Odyrny\n",
       "15025                                          Ottormenbod\n",
       "15026                                                   my\n",
       "15027                                             MICHIGAN\n",
       "Name: text, Length: 15028, dtype: object"
      ]
     },
     "execution_count": 9,
     "metadata": {},
     "output_type": "execute_result"
    }
   ],
   "source": [
    "lhd_entit['text']"
   ]
  },
  {
   "cell_type": "markdown",
   "metadata": {
    "pycharm": {
     "name": "#%% md\n"
    }
   },
   "source": [
    "### Get Character References for each character\n",
    "For each of the three named characters we cared about, we need to make sure we capture all the different references associated with them, since the underlying data may code one character as multiple different reference numbers"
   ]
  },
  {
   "cell_type": "code",
   "execution_count": 10,
   "metadata": {
    "pycharm": {
     "name": "#%%\n"
    }
   },
   "outputs": [],
   "source": [
    "chars = ['Estraven', 'Argaven','Genly Ai']\n",
    "char_refs = {}"
   ]
  },
  {
   "cell_type": "code",
   "execution_count": 11,
   "metadata": {
    "pycharm": {
     "name": "#%%\n"
    }
   },
   "outputs": [
    {
     "data": {
      "text/plain": [
       "{'Estraven': array([380, 385, 412, 498]),\n",
       " 'Argaven': array([ 61, 377, 397]),\n",
       " 'Genly Ai': array([376, 384])}"
      ]
     },
     "execution_count": 11,
     "metadata": {},
     "output_type": "execute_result"
    }
   ],
   "source": [
    "for character in chars:\n",
    "    ref_token = lhd_entit[lhd_entit['text']==character]\n",
    "    ref_token_list = np.unique(ref_token['COREF'].values.tolist())\n",
    "    char_refs[character] = ref_token_list\n",
    "    \n",
    "char_refs"
   ]
  },
  {
   "cell_type": "code",
   "execution_count": 12,
   "metadata": {
    "pycharm": {
     "name": "#%%\n"
    }
   },
   "outputs": [
    {
     "data": {
      "text/html": [
       "<div>\n",
       "<style scoped>\n",
       "    .dataframe tbody tr th:only-of-type {\n",
       "        vertical-align: middle;\n",
       "    }\n",
       "\n",
       "    .dataframe tbody tr th {\n",
       "        vertical-align: top;\n",
       "    }\n",
       "\n",
       "    .dataframe thead th {\n",
       "        text-align: right;\n",
       "    }\n",
       "</style>\n",
       "<table border=\"1\" class=\"dataframe\">\n",
       "  <thead>\n",
       "    <tr style=\"text-align: right;\">\n",
       "      <th></th>\n",
       "      <th>COREF</th>\n",
       "      <th>start_token</th>\n",
       "      <th>end_token</th>\n",
       "      <th>prop</th>\n",
       "      <th>cat</th>\n",
       "      <th>text</th>\n",
       "    </tr>\n",
       "  </thead>\n",
       "  <tbody>\n",
       "    <tr>\n",
       "      <th>6595</th>\n",
       "      <td>498</td>\n",
       "      <td>44803</td>\n",
       "      <td>44804</td>\n",
       "      <td>PROP</td>\n",
       "      <td>PER</td>\n",
       "      <td>DARKNESS Estraven</td>\n",
       "    </tr>\n",
       "    <tr>\n",
       "      <th>6604</th>\n",
       "      <td>498</td>\n",
       "      <td>44855</td>\n",
       "      <td>44855</td>\n",
       "      <td>PROP</td>\n",
       "      <td>PER</td>\n",
       "      <td>Estraven</td>\n",
       "    </tr>\n",
       "  </tbody>\n",
       "</table>\n",
       "</div>"
      ],
      "text/plain": [
       "      COREF  start_token  end_token  prop  cat               text\n",
       "6595    498        44803      44804  PROP  PER  DARKNESS Estraven\n",
       "6604    498        44855      44855  PROP  PER           Estraven"
      ]
     },
     "execution_count": 12,
     "metadata": {},
     "output_type": "execute_result"
    }
   ],
   "source": [
    "lhd_entit[lhd_entit['COREF']==498]"
   ]
  }
 ],
 "metadata": {
  "kernelspec": {
   "display_name": "Python 3 (ipykernel)",
   "language": "python",
   "name": "python3"
  },
  "language_info": {
   "codemirror_mode": {
    "name": "ipython",
    "version": 3
   },
   "file_extension": ".py",
   "mimetype": "text/x-python",
   "name": "python",
   "nbconvert_exporter": "python",
   "pygments_lexer": "ipython3",
   "version": "3.11.0"
  }
 },
 "nbformat": 4,
 "nbformat_minor": 2
}
