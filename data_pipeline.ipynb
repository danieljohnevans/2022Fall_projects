{
 "cells": [
  {
   "cell_type": "markdown",
   "metadata": {},
   "source": [
    "# (Mis)Classifying Gender in 20th Century Speculative Fiction using BookNLP \n",
    "This is where we will describe things, the code, BookNLP, and our project. We will also need to provide background."
   ]
  },
  {
   "cell_type": "code",
   "execution_count": 7,
   "metadata": {},
   "outputs": [],
   "source": [
    "import pandas as pd\n",
    "import numpy as np\n",
    "import json\n",
    "import matplotlib.pyplot as plt\n",
    "import seaborn as sns"
   ]
  },
  {
   "cell_type": "markdown",
   "metadata": {},
   "source": [
    "## Read in the data\n",
    "Our initial data request was for 40 books, due to scanning limitations, rights issues, and BookNLP processing, we were only able to get access to 25 books. The data was provided via [HathiTrust Research Center](https://www.hathitrust.org/htrc). We limited our character analysis to those characters who have more than 50 mentions in a particular book. This is to limit the noise created by minor characters. For a fuller analysis of our corpus creation, please refer to import_data.py. From our 25 novels, we are left with about ~700 characters."
   ]
  },
  {
   "cell_type": "code",
   "execution_count": 8,
   "metadata": {},
   "outputs": [
    {
     "data": {
      "text/html": [
       "<div>\n",
       "<style scoped>\n",
       "    .dataframe tbody tr th:only-of-type {\n",
       "        vertical-align: middle;\n",
       "    }\n",
       "\n",
       "    .dataframe tbody tr th {\n",
       "        vertical-align: top;\n",
       "    }\n",
       "\n",
       "    .dataframe thead th {\n",
       "        text-align: right;\n",
       "    }\n",
       "</style>\n",
       "<table border=\"1\" class=\"dataframe\">\n",
       "  <thead>\n",
       "    <tr style=\"text-align: right;\">\n",
       "      <th></th>\n",
       "      <th>title</th>\n",
       "      <th>year</th>\n",
       "      <th>language</th>\n",
       "      <th>authors</th>\n",
       "      <th>author_gender</th>\n",
       "      <th>trans</th>\n",
       "      <th>notes</th>\n",
       "      <th>id_y</th>\n",
       "      <th>g.inference.he/him/his</th>\n",
       "      <th>g.inference.she/her</th>\n",
       "      <th>g.inference.they/them/their</th>\n",
       "      <th>g.inference.xe/xem/xyr/xir</th>\n",
       "      <th>g.inference.ze/zem/zir/hir</th>\n",
       "      <th>g.argmax</th>\n",
       "      <th>g.max</th>\n",
       "      <th>mentions.proper</th>\n",
       "      <th>filename</th>\n",
       "      <th>count</th>\n",
       "    </tr>\n",
       "  </thead>\n",
       "  <tbody>\n",
       "    <tr>\n",
       "      <th>0</th>\n",
       "      <td>Wild seed / Octavia E. Butler.</td>\n",
       "      <td>1980.0</td>\n",
       "      <td>eng</td>\n",
       "      <td>Butler, Octavia E</td>\n",
       "      <td>she/her</td>\n",
       "      <td>no</td>\n",
       "      <td>gender-fluid gods</td>\n",
       "      <td>61</td>\n",
       "      <td>0.155</td>\n",
       "      <td>0.819</td>\n",
       "      <td>0.026</td>\n",
       "      <td>0.000</td>\n",
       "      <td>0.000</td>\n",
       "      <td>she/her</td>\n",
       "      <td>0.819</td>\n",
       "      <td>[{'c': 714, 'n': 'Anyanwu'}, {'c': 28, 'n': 'W...</td>\n",
       "      <td>mdp.39015054037372</td>\n",
       "      <td>4324</td>\n",
       "    </tr>\n",
       "    <tr>\n",
       "      <th>1</th>\n",
       "      <td>Wild seed / Octavia E. Butler.</td>\n",
       "      <td>1980.0</td>\n",
       "      <td>eng</td>\n",
       "      <td>Butler, Octavia E</td>\n",
       "      <td>she/her</td>\n",
       "      <td>no</td>\n",
       "      <td>gender-fluid gods</td>\n",
       "      <td>60</td>\n",
       "      <td>0.706</td>\n",
       "      <td>0.229</td>\n",
       "      <td>0.043</td>\n",
       "      <td>0.008</td>\n",
       "      <td>0.014</td>\n",
       "      <td>he/him/his</td>\n",
       "      <td>0.706</td>\n",
       "      <td>[{'c': 956, 'n': 'Doro'}, {'c': 49, 'n': 'Wild...</td>\n",
       "      <td>mdp.39015054037372</td>\n",
       "      <td>3694</td>\n",
       "    </tr>\n",
       "    <tr>\n",
       "      <th>2</th>\n",
       "      <td>Wild seed / Octavia E. Butler.</td>\n",
       "      <td>1980.0</td>\n",
       "      <td>eng</td>\n",
       "      <td>Butler, Octavia E</td>\n",
       "      <td>she/her</td>\n",
       "      <td>no</td>\n",
       "      <td>gender-fluid gods</td>\n",
       "      <td>0</td>\n",
       "      <td>0.491</td>\n",
       "      <td>0.415</td>\n",
       "      <td>0.068</td>\n",
       "      <td>0.010</td>\n",
       "      <td>0.016</td>\n",
       "      <td>he/him/his</td>\n",
       "      <td>0.491</td>\n",
       "      <td>[]</td>\n",
       "      <td>mdp.39015054037372</td>\n",
       "      <td>2512</td>\n",
       "    </tr>\n",
       "    <tr>\n",
       "      <th>3</th>\n",
       "      <td>Wild seed / Octavia E. Butler.</td>\n",
       "      <td>1980.0</td>\n",
       "      <td>eng</td>\n",
       "      <td>Butler, Octavia E</td>\n",
       "      <td>she/her</td>\n",
       "      <td>no</td>\n",
       "      <td>gender-fluid gods</td>\n",
       "      <td>84</td>\n",
       "      <td>0.650</td>\n",
       "      <td>0.216</td>\n",
       "      <td>0.085</td>\n",
       "      <td>0.019</td>\n",
       "      <td>0.030</td>\n",
       "      <td>he/him/his</td>\n",
       "      <td>0.650</td>\n",
       "      <td>[{'c': 391, 'n': 'Isaac'}, {'c': 8, 'n': 'Wild...</td>\n",
       "      <td>mdp.39015054037372</td>\n",
       "      <td>961</td>\n",
       "    </tr>\n",
       "    <tr>\n",
       "      <th>4</th>\n",
       "      <td>Wild seed / Octavia E. Butler.</td>\n",
       "      <td>1980.0</td>\n",
       "      <td>eng</td>\n",
       "      <td>Butler, Octavia E</td>\n",
       "      <td>she/her</td>\n",
       "      <td>no</td>\n",
       "      <td>gender-fluid gods</td>\n",
       "      <td>2648</td>\n",
       "      <td>0.000</td>\n",
       "      <td>0.000</td>\n",
       "      <td>1.000</td>\n",
       "      <td>0.000</td>\n",
       "      <td>0.000</td>\n",
       "      <td>they/them/their</td>\n",
       "      <td>1.000</td>\n",
       "      <td>[]</td>\n",
       "      <td>mdp.39015054037372</td>\n",
       "      <td>210</td>\n",
       "    </tr>\n",
       "  </tbody>\n",
       "</table>\n",
       "</div>"
      ],
      "text/plain": [
       "                            title    year language            authors  \\\n",
       "0  Wild seed / Octavia E. Butler.  1980.0      eng  Butler, Octavia E   \n",
       "1  Wild seed / Octavia E. Butler.  1980.0      eng  Butler, Octavia E   \n",
       "2  Wild seed / Octavia E. Butler.  1980.0      eng  Butler, Octavia E   \n",
       "3  Wild seed / Octavia E. Butler.  1980.0      eng  Butler, Octavia E   \n",
       "4  Wild seed / Octavia E. Butler.  1980.0      eng  Butler, Octavia E   \n",
       "\n",
       "  author_gender trans              notes  id_y  g.inference.he/him/his  \\\n",
       "0       she/her    no  gender-fluid gods    61                   0.155   \n",
       "1       she/her    no  gender-fluid gods    60                   0.706   \n",
       "2       she/her    no  gender-fluid gods     0                   0.491   \n",
       "3       she/her    no  gender-fluid gods    84                   0.650   \n",
       "4       she/her    no  gender-fluid gods  2648                   0.000   \n",
       "\n",
       "   g.inference.she/her  g.inference.they/them/their  \\\n",
       "0                0.819                        0.026   \n",
       "1                0.229                        0.043   \n",
       "2                0.415                        0.068   \n",
       "3                0.216                        0.085   \n",
       "4                0.000                        1.000   \n",
       "\n",
       "   g.inference.xe/xem/xyr/xir  g.inference.ze/zem/zir/hir         g.argmax  \\\n",
       "0                       0.000                       0.000          she/her   \n",
       "1                       0.008                       0.014       he/him/his   \n",
       "2                       0.010                       0.016       he/him/his   \n",
       "3                       0.019                       0.030       he/him/his   \n",
       "4                       0.000                       0.000  they/them/their   \n",
       "\n",
       "   g.max                                    mentions.proper  \\\n",
       "0  0.819  [{'c': 714, 'n': 'Anyanwu'}, {'c': 28, 'n': 'W...   \n",
       "1  0.706  [{'c': 956, 'n': 'Doro'}, {'c': 49, 'n': 'Wild...   \n",
       "2  0.491                                                 []   \n",
       "3  0.650  [{'c': 391, 'n': 'Isaac'}, {'c': 8, 'n': 'Wild...   \n",
       "4  1.000                                                 []   \n",
       "\n",
       "             filename  count  \n",
       "0  mdp.39015054037372   4324  \n",
       "1  mdp.39015054037372   3694  \n",
       "2  mdp.39015054037372   2512  \n",
       "3  mdp.39015054037372    961  \n",
       "4  mdp.39015054037372    210  "
      ]
     },
     "execution_count": 8,
     "metadata": {},
     "output_type": "execute_result"
    }
   ],
   "source": [
    "pickle_df = pd.read_pickle('booknlp.pkl')\n",
    "pickle_df.head()"
   ]
  },
  {
   "cell_type": "markdown",
   "metadata": {},
   "source": [
    "## Preprocess the data we have read in\n",
    "Get main characters per book, note if they have more than one gender associated with them, merge entity and book tables"
   ]
  },
  {
   "cell_type": "code",
   "execution_count": 9,
   "metadata": {},
   "outputs": [],
   "source": [
    "lhd_entit = pd.read_csv('data/dan_booknlp/mdp.39015052467530/mdp.39015052467530.entities', sep='\\t')\n",
    "lhd_entit.drop(['start_token', 'end_token'], axis=1, inplace=True)  # drop because it complicates what counts as a unique row"
   ]
  },
  {
   "cell_type": "code",
   "execution_count": 10,
   "metadata": {},
   "outputs": [
    {
     "data": {
      "text/html": [
       "<div>\n",
       "<style scoped>\n",
       "    .dataframe tbody tr th:only-of-type {\n",
       "        vertical-align: middle;\n",
       "    }\n",
       "\n",
       "    .dataframe tbody tr th {\n",
       "        vertical-align: top;\n",
       "    }\n",
       "\n",
       "    .dataframe thead th {\n",
       "        text-align: right;\n",
       "    }\n",
       "</style>\n",
       "<table border=\"1\" class=\"dataframe\">\n",
       "  <thead>\n",
       "    <tr style=\"text-align: right;\">\n",
       "      <th></th>\n",
       "      <th>COREF</th>\n",
       "      <th>prop</th>\n",
       "      <th>cat</th>\n",
       "      <th>text</th>\n",
       "    </tr>\n",
       "  </thead>\n",
       "  <tbody>\n",
       "    <tr>\n",
       "      <th>0</th>\n",
       "      <td>584</td>\n",
       "      <td>NOM</td>\n",
       "      <td>FAC</td>\n",
       "      <td>NIVERS THE UN CHIGAN • LIBRE BRARIES THE LEFT ...</td>\n",
       "    </tr>\n",
       "    <tr>\n",
       "      <th>1</th>\n",
       "      <td>1</td>\n",
       "      <td>PROP</td>\n",
       "      <td>FAC</td>\n",
       "      <td>URSULA K. LEGUIN WALKER AND COMPANY New York UGL</td>\n",
       "    </tr>\n",
       "    <tr>\n",
       "      <th>2</th>\n",
       "      <td>374</td>\n",
       "      <td>PROP</td>\n",
       "      <td>PER</td>\n",
       "      <td>Ursula</td>\n",
       "    </tr>\n",
       "    <tr>\n",
       "      <th>3</th>\n",
       "      <td>2</td>\n",
       "      <td>PROP</td>\n",
       "      <td>GPE</td>\n",
       "      <td>LeGuin</td>\n",
       "    </tr>\n",
       "    <tr>\n",
       "      <th>4</th>\n",
       "      <td>585</td>\n",
       "      <td>NOM</td>\n",
       "      <td>PER</td>\n",
       "      <td>the Publisher</td>\n",
       "    </tr>\n",
       "  </tbody>\n",
       "</table>\n",
       "</div>"
      ],
      "text/plain": [
       "   COREF  prop  cat                                               text\n",
       "0    584   NOM  FAC  NIVERS THE UN CHIGAN • LIBRE BRARIES THE LEFT ...\n",
       "1      1  PROP  FAC   URSULA K. LEGUIN WALKER AND COMPANY New York UGL\n",
       "2    374  PROP  PER                                             Ursula\n",
       "3      2  PROP  GPE                                             LeGuin\n",
       "4    585   NOM  PER                                      the Publisher"
      ]
     },
     "execution_count": 10,
     "metadata": {},
     "output_type": "execute_result"
    }
   ],
   "source": [
    "lhd_entit.head()"
   ]
  },
  {
   "cell_type": "code",
   "execution_count": 11,
   "metadata": {},
   "outputs": [
    {
     "data": {
      "text/html": [
       "<div>\n",
       "<style scoped>\n",
       "    .dataframe tbody tr th:only-of-type {\n",
       "        vertical-align: middle;\n",
       "    }\n",
       "\n",
       "    .dataframe tbody tr th {\n",
       "        vertical-align: top;\n",
       "    }\n",
       "\n",
       "    .dataframe thead th {\n",
       "        text-align: right;\n",
       "    }\n",
       "</style>\n",
       "<table border=\"1\" class=\"dataframe\">\n",
       "  <thead>\n",
       "    <tr style=\"text-align: right;\">\n",
       "      <th></th>\n",
       "      <th>COREF</th>\n",
       "      <th>prop</th>\n",
       "      <th>cat</th>\n",
       "      <th>text</th>\n",
       "      <th>title</th>\n",
       "      <th>year</th>\n",
       "      <th>language</th>\n",
       "      <th>authors</th>\n",
       "      <th>author_gender</th>\n",
       "      <th>trans</th>\n",
       "      <th>...</th>\n",
       "      <th>g.inference.he/him/his</th>\n",
       "      <th>g.inference.she/her</th>\n",
       "      <th>g.inference.they/them/their</th>\n",
       "      <th>g.inference.xe/xem/xyr/xir</th>\n",
       "      <th>g.inference.ze/zem/zir/hir</th>\n",
       "      <th>g.argmax</th>\n",
       "      <th>g.max</th>\n",
       "      <th>mentions.proper</th>\n",
       "      <th>filename</th>\n",
       "      <th>count</th>\n",
       "    </tr>\n",
       "  </thead>\n",
       "  <tbody>\n",
       "    <tr>\n",
       "      <th>0</th>\n",
       "      <td>586</td>\n",
       "      <td>NOM</td>\n",
       "      <td>GPE</td>\n",
       "      <td>the United States of America</td>\n",
       "      <td>Woman on the edge of time / Marge Piercy.</td>\n",
       "      <td>1976.0</td>\n",
       "      <td>eng</td>\n",
       "      <td>Piercy, Marge</td>\n",
       "      <td>she/her</td>\n",
       "      <td>no</td>\n",
       "      <td>...</td>\n",
       "      <td>0.012</td>\n",
       "      <td>0.731</td>\n",
       "      <td>0.239</td>\n",
       "      <td>0.009</td>\n",
       "      <td>0.009</td>\n",
       "      <td>she/her</td>\n",
       "      <td>0.731</td>\n",
       "      <td>[{'c': 24, 'n': 'Parra'}]</td>\n",
       "      <td>mdp.39015000244577</td>\n",
       "      <td>96</td>\n",
       "    </tr>\n",
       "    <tr>\n",
       "      <th>1</th>\n",
       "      <td>586</td>\n",
       "      <td>NOM</td>\n",
       "      <td>GPE</td>\n",
       "      <td>the United States of America</td>\n",
       "      <td>Woman on the edge of time / Marge Piercy.</td>\n",
       "      <td>1976.0</td>\n",
       "      <td>eng</td>\n",
       "      <td>Piercy, Marge</td>\n",
       "      <td>she/her</td>\n",
       "      <td>no</td>\n",
       "      <td>...</td>\n",
       "      <td>0.012</td>\n",
       "      <td>0.731</td>\n",
       "      <td>0.239</td>\n",
       "      <td>0.009</td>\n",
       "      <td>0.009</td>\n",
       "      <td>she/her</td>\n",
       "      <td>0.731</td>\n",
       "      <td>[{'c': 24, 'n': 'Parra'}]</td>\n",
       "      <td>mdp.39015000244577</td>\n",
       "      <td>96</td>\n",
       "    </tr>\n",
       "    <tr>\n",
       "      <th>2</th>\n",
       "      <td>589</td>\n",
       "      <td>NOM</td>\n",
       "      <td>FAC</td>\n",
       "      <td>The Place Inside the Blizzard</td>\n",
       "      <td>Children of God : a novel / Mary Doria Russell.</td>\n",
       "      <td>1998.0</td>\n",
       "      <td>eng</td>\n",
       "      <td>Russell, Mary Doria 1950-</td>\n",
       "      <td>she/her</td>\n",
       "      <td>no</td>\n",
       "      <td>...</td>\n",
       "      <td>0.095</td>\n",
       "      <td>0.504</td>\n",
       "      <td>0.357</td>\n",
       "      <td>0.021</td>\n",
       "      <td>0.022</td>\n",
       "      <td>she/her</td>\n",
       "      <td>0.504</td>\n",
       "      <td>[{'c': 25, 'n': 'Danny'}, {'c': 8, 'n': 'Dani'...</td>\n",
       "      <td>mdp.39015047519965</td>\n",
       "      <td>52</td>\n",
       "    </tr>\n",
       "    <tr>\n",
       "      <th>3</th>\n",
       "      <td>589</td>\n",
       "      <td>NOM</td>\n",
       "      <td>FAC</td>\n",
       "      <td>The Place Inside the Blizzard</td>\n",
       "      <td>Memoirs of a spacewoman / Naomi Mitchison.</td>\n",
       "      <td>1985.0</td>\n",
       "      <td>eng</td>\n",
       "      <td>Mitchison, Naomi 1897-1999</td>\n",
       "      <td>she/her</td>\n",
       "      <td>no</td>\n",
       "      <td>...</td>\n",
       "      <td>0.000</td>\n",
       "      <td>0.000</td>\n",
       "      <td>1.000</td>\n",
       "      <td>0.000</td>\n",
       "      <td>0.000</td>\n",
       "      <td>they/them/their</td>\n",
       "      <td>1.000</td>\n",
       "      <td>[]</td>\n",
       "      <td>uc1.32106008566652</td>\n",
       "      <td>58</td>\n",
       "    </tr>\n",
       "    <tr>\n",
       "      <th>4</th>\n",
       "      <td>589</td>\n",
       "      <td>NOM</td>\n",
       "      <td>FAC</td>\n",
       "      <td>The Place Inside the Blizzard</td>\n",
       "      <td>Children of God : a novel / Mary Doria Russell.</td>\n",
       "      <td>1998.0</td>\n",
       "      <td>eng</td>\n",
       "      <td>Russell, Mary Doria 1950-</td>\n",
       "      <td>she/her</td>\n",
       "      <td>no</td>\n",
       "      <td>...</td>\n",
       "      <td>0.095</td>\n",
       "      <td>0.504</td>\n",
       "      <td>0.357</td>\n",
       "      <td>0.021</td>\n",
       "      <td>0.022</td>\n",
       "      <td>she/her</td>\n",
       "      <td>0.504</td>\n",
       "      <td>[{'c': 25, 'n': 'Danny'}, {'c': 8, 'n': 'Dani'...</td>\n",
       "      <td>mdp.39015047519965</td>\n",
       "      <td>52</td>\n",
       "    </tr>\n",
       "  </tbody>\n",
       "</table>\n",
       "<p>5 rows × 22 columns</p>\n",
       "</div>"
      ],
      "text/plain": [
       "   COREF prop  cat                           text  \\\n",
       "0    586  NOM  GPE   the United States of America   \n",
       "1    586  NOM  GPE   the United States of America   \n",
       "2    589  NOM  FAC  The Place Inside the Blizzard   \n",
       "3    589  NOM  FAC  The Place Inside the Blizzard   \n",
       "4    589  NOM  FAC  The Place Inside the Blizzard   \n",
       "\n",
       "                                             title    year language  \\\n",
       "0        Woman on the edge of time / Marge Piercy.  1976.0      eng   \n",
       "1        Woman on the edge of time / Marge Piercy.  1976.0      eng   \n",
       "2  Children of God : a novel / Mary Doria Russell.  1998.0      eng   \n",
       "3       Memoirs of a spacewoman / Naomi Mitchison.  1985.0      eng   \n",
       "4  Children of God : a novel / Mary Doria Russell.  1998.0      eng   \n",
       "\n",
       "                      authors author_gender trans  ... g.inference.he/him/his  \\\n",
       "0               Piercy, Marge       she/her    no  ...                  0.012   \n",
       "1               Piercy, Marge       she/her    no  ...                  0.012   \n",
       "2   Russell, Mary Doria 1950-       she/her    no  ...                  0.095   \n",
       "3  Mitchison, Naomi 1897-1999       she/her    no  ...                  0.000   \n",
       "4   Russell, Mary Doria 1950-       she/her    no  ...                  0.095   \n",
       "\n",
       "   g.inference.she/her  g.inference.they/them/their  \\\n",
       "0                0.731                        0.239   \n",
       "1                0.731                        0.239   \n",
       "2                0.504                        0.357   \n",
       "3                0.000                        1.000   \n",
       "4                0.504                        0.357   \n",
       "\n",
       "   g.inference.xe/xem/xyr/xir  g.inference.ze/zem/zir/hir         g.argmax  \\\n",
       "0                       0.009                       0.009          she/her   \n",
       "1                       0.009                       0.009          she/her   \n",
       "2                       0.021                       0.022          she/her   \n",
       "3                       0.000                       0.000  they/them/their   \n",
       "4                       0.021                       0.022          she/her   \n",
       "\n",
       "   g.max                                    mentions.proper  \\\n",
       "0  0.731                          [{'c': 24, 'n': 'Parra'}]   \n",
       "1  0.731                          [{'c': 24, 'n': 'Parra'}]   \n",
       "2  0.504  [{'c': 25, 'n': 'Danny'}, {'c': 8, 'n': 'Dani'...   \n",
       "3  1.000                                                 []   \n",
       "4  0.504  [{'c': 25, 'n': 'Danny'}, {'c': 8, 'n': 'Dani'...   \n",
       "\n",
       "             filename count  \n",
       "0  mdp.39015000244577    96  \n",
       "1  mdp.39015000244577    96  \n",
       "2  mdp.39015047519965    52  \n",
       "3  uc1.32106008566652    58  \n",
       "4  mdp.39015047519965    52  \n",
       "\n",
       "[5 rows x 22 columns]"
      ]
     },
     "execution_count": 11,
     "metadata": {},
     "output_type": "execute_result"
    }
   ],
   "source": [
    "lhd_chars = lhd_entit.merge(pickle_df, left_on='COREF', right_on='id_y', how='inner')\n",
    "lhd_chars.head()"
   ]
  },
  {
   "cell_type": "code",
   "execution_count": 12,
   "metadata": {},
   "outputs": [
    {
     "data": {
      "text/html": [
       "<div>\n",
       "<style scoped>\n",
       "    .dataframe tbody tr th:only-of-type {\n",
       "        vertical-align: middle;\n",
       "    }\n",
       "\n",
       "    .dataframe tbody tr th {\n",
       "        vertical-align: top;\n",
       "    }\n",
       "\n",
       "    .dataframe thead th {\n",
       "        text-align: right;\n",
       "    }\n",
       "</style>\n",
       "<table border=\"1\" class=\"dataframe\">\n",
       "  <thead>\n",
       "    <tr style=\"text-align: right;\">\n",
       "      <th></th>\n",
       "      <th>text</th>\n",
       "      <th>g.argmax</th>\n",
       "      <th>g.max</th>\n",
       "    </tr>\n",
       "    <tr>\n",
       "      <th>COREF</th>\n",
       "      <th></th>\n",
       "      <th></th>\n",
       "      <th></th>\n",
       "    </tr>\n",
       "  </thead>\n",
       "  <tbody>\n",
       "    <tr>\n",
       "      <th>0</th>\n",
       "      <td>[my, I, me, myself, i, you, your, You, My, you...</td>\n",
       "      <td>he/him/his</td>\n",
       "      <td>0.491</td>\n",
       "    </tr>\n",
       "    <tr>\n",
       "      <th>33</th>\n",
       "      <td>[the Sinoth Valley, Sinoth Valley, the dispute...</td>\n",
       "      <td>he/him/his</td>\n",
       "      <td>0.734</td>\n",
       "    </tr>\n",
       "    <tr>\n",
       "      <th>35</th>\n",
       "      <td>[the high North Fall, the North Fall]</td>\n",
       "      <td>he/him/his</td>\n",
       "      <td>0.758</td>\n",
       "    </tr>\n",
       "    <tr>\n",
       "      <th>37</th>\n",
       "      <td>[Or . goreyn]</td>\n",
       "      <td>he/him/his</td>\n",
       "      <td>0.654</td>\n",
       "    </tr>\n",
       "    <tr>\n",
       "      <th>43</th>\n",
       "      <td>[Cars]</td>\n",
       "      <td>they/them/their</td>\n",
       "      <td>0.981</td>\n",
       "    </tr>\n",
       "  </tbody>\n",
       "</table>\n",
       "</div>"
      ],
      "text/plain": [
       "                                                    text         g.argmax  \\\n",
       "COREF                                                                       \n",
       "0      [my, I, me, myself, i, you, your, You, My, you...       he/him/his   \n",
       "33     [the Sinoth Valley, Sinoth Valley, the dispute...       he/him/his   \n",
       "35                 [the high North Fall, the North Fall]       he/him/his   \n",
       "37                                         [Or . goreyn]       he/him/his   \n",
       "43                                                [Cars]  they/them/their   \n",
       "\n",
       "       g.max  \n",
       "COREF         \n",
       "0      0.491  \n",
       "33     0.734  \n",
       "35     0.758  \n",
       "37     0.654  \n",
       "43     0.981  "
      ]
     },
     "execution_count": 12,
     "metadata": {},
     "output_type": "execute_result"
    }
   ],
   "source": [
    "lhd_unique = lhd_chars.groupby('COREF')[['text', 'g.argmax', 'g.max']].agg({'text':'unique', 'g.argmax':'first', 'g.max':'first'})\n",
    "lhd_unique.head()"
   ]
  },
  {
   "cell_type": "markdown",
   "metadata": {},
   "source": [
    "## Plots of metadata about the books + authors themselves\n",
    "This will plot things like how many books were written by women, in what years, blah blah blah"
   ]
  },
  {
   "cell_type": "code",
   "execution_count": 13,
   "metadata": {},
   "outputs": [
    {
     "data": {
      "image/png": "[encoded data removed]",
      "text/plain": [
       "<Figure size 300x100 with 1 Axes>"
      ]
     },
     "metadata": {},
     "output_type": "display_data"
    }
   ],
   "source": [
    "sns.set_theme(style='darkgrid')\n",
    "sns.palplot(sns.color_palette(\"deep\", 3))"
   ]
  },
  {
   "cell_type": "code",
   "execution_count": 25,
   "metadata": {},
   "outputs": [
    {
     "data": {
      "text/plain": [
       "<AxesSubplot: xlabel='year', ylabel='Count'>"
      ]
     },
     "execution_count": 25,
     "metadata": {},
     "output_type": "execute_result"
    },
    {
     "data": {
      "image/png": "[encoded data removed]",
      "text/plain": [
       "<Figure size 640x480 with 1 Axes>"
      ]
     },
     "metadata": {},
     "output_type": "display_data"
    }
   ],
   "source": [
    "# auth_df = pickle_df.groupby('filename')['author_gender'].nunique()\n",
    "# auth_df\n",
    "\n",
    "sns.histplot(pickle_df, x=\"year\", hue=\"author_gender\", multiple=\"stack\", stat=\"count\")\n",
    "\n",
    "# note one book written by a trans author (identifies as she/her -- written in 1993)"
   ]
  },
  {
   "cell_type": "markdown",
   "metadata": {},
   "source": [
    "## Plot Gender Inferences for Main Characters\n",
    "plots of gender proportions across all books and gender counts. also a plot of author gender vs character gender (maybe)"
   ]
  },
  {
   "cell_type": "code",
   "execution_count": 15,
   "metadata": {},
   "outputs": [],
   "source": [
    "#create dataframes that segment by author gender\n",
    "women_auth_df = pickle_df[pickle_df['author_gender'] == 'she/her']\n",
    "men_auth_df = pickle_df[pickle_df['author_gender'] == 'he/him']\n",
    "trans_auth_df = pickle_df[pickle_df['trans'] == 'yes']\n",
    "\n",
    "#notes: these colors need to be consistent throughout. also need to add titles and explanations"
   ]
  },
  {
   "cell_type": "code",
   "execution_count": 16,
   "metadata": {},
   "outputs": [
    {
     "data": {
      "text/plain": [
       "<AxesSubplot: xlabel='year', ylabel='Proportion'>"
      ]
     },
     "execution_count": 16,
     "metadata": {},
     "output_type": "execute_result"
    },
    {
     "data": {
      "image/png": "[encoded data removed]",
      "text/plain": [
       "<Figure size 640x480 with 1 Axes>"
      ]
     },
     "metadata": {},
     "output_type": "display_data"
    }
   ],
   "source": [
    "# characters by women \n",
    "\n",
    "sns.histplot(women_auth_df, x=\"year\", hue=\"g.argmax\", multiple=\"stack\", stat=\"proportion\")"
   ]
  },
  {
   "cell_type": "code",
   "execution_count": 17,
   "metadata": {},
   "outputs": [
    {
     "data": {
      "text/plain": [
       "<AxesSubplot: xlabel='year', ylabel='Proportion'>"
      ]
     },
     "execution_count": 17,
     "metadata": {},
     "output_type": "execute_result"
    },
    {
     "data": {
      "image/png": "[encoded data removed]",
      "text/plain": [
       "<Figure size 640x480 with 1 Axes>"
      ]
     },
     "metadata": {},
     "output_type": "display_data"
    }
   ],
   "source": [
    "# characters by men\n",
    "\n",
    "sns.histplot(men_auth_df, x=\"year\", hue=\"g.argmax\", multiple=\"stack\", stat=\"proportion\")"
   ]
  },
  {
   "cell_type": "code",
   "execution_count": 18,
   "metadata": {},
   "outputs": [
    {
     "data": {
      "text/plain": [
       "<AxesSubplot: xlabel='year', ylabel='Proportion'>"
      ]
     },
     "execution_count": 18,
     "metadata": {},
     "output_type": "execute_result"
    },
    {
     "data": {
      "image/png": "[encoded data removed]",
      "text/plain": [
       "<Figure size 640x480 with 1 Axes>"
      ]
     },
     "metadata": {},
     "output_type": "display_data"
    }
   ],
   "source": [
    "# characters by trans\n",
    "\n",
    "sns.histplot(trans_auth_df, x=\"year\", hue=\"g.argmax\", multiple=\"stack\", stat=\"proportion\")"
   ]
  },
  {
   "cell_type": "markdown",
   "metadata": {},
   "source": [
    "As part of our analysis, we created a dataset that recorded the gender of forty-two characters across twenty novels. While we tried to focus on non-binary or gender-fluid characters, we also included in our dataset the main characters of the novels. We do this to begin to test the accuracy of BookNLP's gender inference probability."
   ]
  },
  {
   "cell_type": "markdown",
   "metadata": {},
   "source": [
    "## Case studies\n",
    "### Left Hand of Darkness\n",
    "genderless aliens. Argaven has 2 she 1 he. Estraven has 1 he 1 she.\n",
    "\n",
    "### Woman on the Edge of Time\n",
    "Some of the characters use per/person as pronouns and are non-gendered. How are these characters showing up?\n",
    "\n",
    "### Wild Seed (maybe)\n",
    "Two god-like beings who can inhabit any body (and thus be any gender). Feminine character Anyanwu and masculine character Doro, names *should* be consistent throughout but pronouns may not be (?)\n"
   ]
  },
  {
   "cell_type": "markdown",
   "metadata": {},
   "source": [
    "## Conclusion and Discussion\n",
    "\n",
    "We will want to discuss limitations of project, data, and next steps. we will want to mention that we only have 24 books and this only on 20th c fiction -- hence booknlp performed in such a way bc of limited sample size. will also want to mention potential issues with booknlp."
   ]
  },
  {
   "cell_type": "code",
   "execution_count": null,
   "metadata": {},
   "outputs": [],
   "source": []
  }
 ],
 "metadata": {
  "kernelspec": {
   "display_name": "Python 3 (ipykernel)",
   "language": "python",
   "name": "python3"
  },
  "language_info": {
   "codemirror_mode": {
    "name": "ipython",
    "version": 3
   },
   "file_extension": ".py",
   "mimetype": "text/x-python",
   "name": "python",
   "nbconvert_exporter": "python",
   "pygments_lexer": "ipython3",
   "version": "3.9.6"
  }
 },
 "nbformat": 4,
 "nbformat_minor": 2
}
