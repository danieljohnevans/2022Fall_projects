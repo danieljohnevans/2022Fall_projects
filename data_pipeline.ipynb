{
 "cells": [
  {
   "cell_type": "markdown",
   "metadata": {},
   "source": [
    "# (Mis)Classifying Gender in 20th Century Speculative Fiction using BookNLP \n",
    "This is where we will describe things, the code, BookNLP, and our project. We will also need to provide background."
   ]
  },
  {
   "cell_type": "code",
   "execution_count": 207,
   "metadata": {},
   "outputs": [],
   "source": [
    "import pandas as pd\n",
    "import numpy as np\n",
    "import json\n",
    "import matplotlib.pyplot as plt\n",
    "import seaborn as sns\n",
    "import analysis\n",
    "import import_data"
   ]
  },
  {
   "cell_type": "markdown",
   "metadata": {},
   "source": [
    "## Read in the data\n",
    "Our initial data request was for 40 books, due to scanning limitations, rights issues, and BookNLP processing, we were only able to get access to 25 books. The data was provided via [HathiTrust Research Center](https://www.hathitrust.org/htrc). We limited our character analysis to those characters who have more than 50 mentions in a particular book. This is to limit the noise created by minor characters. For a fuller analysis of our corpus creation, please refer to import_data.py. From our 25 novels, we are left with about ~700 characters."
   ]
  },
  {
   "cell_type": "code",
   "execution_count": 208,
   "metadata": {},
   "outputs": [
    {
     "data": {
      "text/html": [
       "<div>\n",
       "<style scoped>\n",
       "    .dataframe tbody tr th:only-of-type {\n",
       "        vertical-align: middle;\n",
       "    }\n",
       "\n",
       "    .dataframe tbody tr th {\n",
       "        vertical-align: top;\n",
       "    }\n",
       "\n",
       "    .dataframe thead th {\n",
       "        text-align: right;\n",
       "    }\n",
       "</style>\n",
       "<table border=\"1\" class=\"dataframe\">\n",
       "  <thead>\n",
       "    <tr style=\"text-align: right;\">\n",
       "      <th></th>\n",
       "      <th>title</th>\n",
       "      <th>year</th>\n",
       "      <th>language</th>\n",
       "      <th>authors</th>\n",
       "      <th>author_gender</th>\n",
       "      <th>trans</th>\n",
       "      <th>notes</th>\n",
       "      <th>id_y</th>\n",
       "      <th>g.inference.he/him/his</th>\n",
       "      <th>g.inference.she/her</th>\n",
       "      <th>g.inference.they/them/their</th>\n",
       "      <th>g.inference.xe/xem/xyr/xir</th>\n",
       "      <th>g.inference.ze/zem/zir/hir</th>\n",
       "      <th>g.argmax</th>\n",
       "      <th>g.max</th>\n",
       "      <th>mentions.proper</th>\n",
       "      <th>filename</th>\n",
       "      <th>count</th>\n",
       "    </tr>\n",
       "  </thead>\n",
       "  <tbody>\n",
       "    <tr>\n",
       "      <th>0</th>\n",
       "      <td>Wild seed / Octavia E. Butler.</td>\n",
       "      <td>1980.0</td>\n",
       "      <td>eng</td>\n",
       "      <td>Butler, Octavia E</td>\n",
       "      <td>she/her</td>\n",
       "      <td>no</td>\n",
       "      <td>gender-fluid gods</td>\n",
       "      <td>61</td>\n",
       "      <td>0.155</td>\n",
       "      <td>0.819</td>\n",
       "      <td>0.026</td>\n",
       "      <td>0.000</td>\n",
       "      <td>0.000</td>\n",
       "      <td>she/her</td>\n",
       "      <td>0.819</td>\n",
       "      <td>[{'c': 714, 'n': 'Anyanwu'}, {'c': 28, 'n': 'W...</td>\n",
       "      <td>mdp.39015054037372</td>\n",
       "      <td>4324</td>\n",
       "    </tr>\n",
       "    <tr>\n",
       "      <th>1</th>\n",
       "      <td>Wild seed / Octavia E. Butler.</td>\n",
       "      <td>1980.0</td>\n",
       "      <td>eng</td>\n",
       "      <td>Butler, Octavia E</td>\n",
       "      <td>she/her</td>\n",
       "      <td>no</td>\n",
       "      <td>gender-fluid gods</td>\n",
       "      <td>60</td>\n",
       "      <td>0.706</td>\n",
       "      <td>0.229</td>\n",
       "      <td>0.043</td>\n",
       "      <td>0.008</td>\n",
       "      <td>0.014</td>\n",
       "      <td>he/him/his</td>\n",
       "      <td>0.706</td>\n",
       "      <td>[{'c': 956, 'n': 'Doro'}, {'c': 49, 'n': 'Wild...</td>\n",
       "      <td>mdp.39015054037372</td>\n",
       "      <td>3694</td>\n",
       "    </tr>\n",
       "    <tr>\n",
       "      <th>2</th>\n",
       "      <td>Wild seed / Octavia E. Butler.</td>\n",
       "      <td>1980.0</td>\n",
       "      <td>eng</td>\n",
       "      <td>Butler, Octavia E</td>\n",
       "      <td>she/her</td>\n",
       "      <td>no</td>\n",
       "      <td>gender-fluid gods</td>\n",
       "      <td>0</td>\n",
       "      <td>0.491</td>\n",
       "      <td>0.415</td>\n",
       "      <td>0.068</td>\n",
       "      <td>0.010</td>\n",
       "      <td>0.016</td>\n",
       "      <td>he/him/his</td>\n",
       "      <td>0.491</td>\n",
       "      <td>[]</td>\n",
       "      <td>mdp.39015054037372</td>\n",
       "      <td>2512</td>\n",
       "    </tr>\n",
       "    <tr>\n",
       "      <th>3</th>\n",
       "      <td>Wild seed / Octavia E. Butler.</td>\n",
       "      <td>1980.0</td>\n",
       "      <td>eng</td>\n",
       "      <td>Butler, Octavia E</td>\n",
       "      <td>she/her</td>\n",
       "      <td>no</td>\n",
       "      <td>gender-fluid gods</td>\n",
       "      <td>84</td>\n",
       "      <td>0.650</td>\n",
       "      <td>0.216</td>\n",
       "      <td>0.085</td>\n",
       "      <td>0.019</td>\n",
       "      <td>0.030</td>\n",
       "      <td>he/him/his</td>\n",
       "      <td>0.650</td>\n",
       "      <td>[{'c': 391, 'n': 'Isaac'}, {'c': 8, 'n': 'Wild...</td>\n",
       "      <td>mdp.39015054037372</td>\n",
       "      <td>961</td>\n",
       "    </tr>\n",
       "    <tr>\n",
       "      <th>4</th>\n",
       "      <td>Wild seed / Octavia E. Butler.</td>\n",
       "      <td>1980.0</td>\n",
       "      <td>eng</td>\n",
       "      <td>Butler, Octavia E</td>\n",
       "      <td>she/her</td>\n",
       "      <td>no</td>\n",
       "      <td>gender-fluid gods</td>\n",
       "      <td>2648</td>\n",
       "      <td>0.000</td>\n",
       "      <td>0.000</td>\n",
       "      <td>1.000</td>\n",
       "      <td>0.000</td>\n",
       "      <td>0.000</td>\n",
       "      <td>they/them/their</td>\n",
       "      <td>1.000</td>\n",
       "      <td>[]</td>\n",
       "      <td>mdp.39015054037372</td>\n",
       "      <td>210</td>\n",
       "    </tr>\n",
       "  </tbody>\n",
       "</table>\n",
       "</div>"
      ],
      "text/plain": [
       "                            title    year language            authors  \\\n",
       "0  Wild seed / Octavia E. Butler.  1980.0      eng  Butler, Octavia E   \n",
       "1  Wild seed / Octavia E. Butler.  1980.0      eng  Butler, Octavia E   \n",
       "2  Wild seed / Octavia E. Butler.  1980.0      eng  Butler, Octavia E   \n",
       "3  Wild seed / Octavia E. Butler.  1980.0      eng  Butler, Octavia E   \n",
       "4  Wild seed / Octavia E. Butler.  1980.0      eng  Butler, Octavia E   \n",
       "\n",
       "  author_gender trans              notes  id_y  g.inference.he/him/his  \\\n",
       "0       she/her    no  gender-fluid gods    61                   0.155   \n",
       "1       she/her    no  gender-fluid gods    60                   0.706   \n",
       "2       she/her    no  gender-fluid gods     0                   0.491   \n",
       "3       she/her    no  gender-fluid gods    84                   0.650   \n",
       "4       she/her    no  gender-fluid gods  2648                   0.000   \n",
       "\n",
       "   g.inference.she/her  g.inference.they/them/their  \\\n",
       "0                0.819                        0.026   \n",
       "1                0.229                        0.043   \n",
       "2                0.415                        0.068   \n",
       "3                0.216                        0.085   \n",
       "4                0.000                        1.000   \n",
       "\n",
       "   g.inference.xe/xem/xyr/xir  g.inference.ze/zem/zir/hir         g.argmax  \\\n",
       "0                       0.000                       0.000          she/her   \n",
       "1                       0.008                       0.014       he/him/his   \n",
       "2                       0.010                       0.016       he/him/his   \n",
       "3                       0.019                       0.030       he/him/his   \n",
       "4                       0.000                       0.000  they/them/their   \n",
       "\n",
       "   g.max                                    mentions.proper  \\\n",
       "0  0.819  [{'c': 714, 'n': 'Anyanwu'}, {'c': 28, 'n': 'W...   \n",
       "1  0.706  [{'c': 956, 'n': 'Doro'}, {'c': 49, 'n': 'Wild...   \n",
       "2  0.491                                                 []   \n",
       "3  0.650  [{'c': 391, 'n': 'Isaac'}, {'c': 8, 'n': 'Wild...   \n",
       "4  1.000                                                 []   \n",
       "\n",
       "             filename  count  \n",
       "0  mdp.39015054037372   4324  \n",
       "1  mdp.39015054037372   3694  \n",
       "2  mdp.39015054037372   2512  \n",
       "3  mdp.39015054037372    961  \n",
       "4  mdp.39015054037372    210  "
      ]
     },
     "execution_count": 208,
     "metadata": {},
     "output_type": "execute_result"
    }
   ],
   "source": [
    "pickle_df = pd.read_pickle('booknlp.pkl')\n",
    "pickle_df.head()"
   ]
  },
  {
   "cell_type": "markdown",
   "metadata": {},
   "source": [
    "## Preprocess the data we have read in\n",
    "Get main characters per book, note if they have more than one gender associated with them, merge entity and book tables"
   ]
  },
  {
   "cell_type": "code",
   "execution_count": 209,
   "metadata": {},
   "outputs": [],
   "source": [
    "entities_df = import_data.read_char('data')  # currently not actually effective"
   ]
  },
  {
   "cell_type": "code",
   "execution_count": 210,
   "metadata": {},
   "outputs": [
    {
     "data": {
      "text/html": [
       "<div>\n",
       "<style scoped>\n",
       "    .dataframe tbody tr th:only-of-type {\n",
       "        vertical-align: middle;\n",
       "    }\n",
       "\n",
       "    .dataframe tbody tr th {\n",
       "        vertical-align: top;\n",
       "    }\n",
       "\n",
       "    .dataframe thead th {\n",
       "        text-align: right;\n",
       "    }\n",
       "</style>\n",
       "<table border=\"1\" class=\"dataframe\">\n",
       "  <thead>\n",
       "    <tr style=\"text-align: right;\">\n",
       "      <th></th>\n",
       "      <th>COREF</th>\n",
       "      <th>prop</th>\n",
       "      <th>cat</th>\n",
       "      <th>text</th>\n",
       "    </tr>\n",
       "  </thead>\n",
       "  <tbody>\n",
       "    <tr>\n",
       "      <th>0</th>\n",
       "      <td>1</td>\n",
       "      <td>PROP</td>\n",
       "      <td>FAC</td>\n",
       "      <td>Wild Seed by Octavia E. Butler WILD SEED KINDR...</td>\n",
       "    </tr>\n",
       "    <tr>\n",
       "      <th>1</th>\n",
       "      <td>2</td>\n",
       "      <td>PROP</td>\n",
       "      <td>FAC</td>\n",
       "      <td>Octavia E. Butler WILD SEED</td>\n",
       "    </tr>\n",
       "    <tr>\n",
       "      <th>2</th>\n",
       "      <td>0</td>\n",
       "      <td>PRON</td>\n",
       "      <td>PER</td>\n",
       "      <td>MY</td>\n",
       "    </tr>\n",
       "    <tr>\n",
       "      <th>3</th>\n",
       "      <td>3</td>\n",
       "      <td>PROP</td>\n",
       "      <td>FAC</td>\n",
       "      <td>Wild Seed OCTAVIA E. BUTLER DOUBLEDAY &amp; COMPANY</td>\n",
       "    </tr>\n",
       "    <tr>\n",
       "      <th>4</th>\n",
       "      <td>174</td>\n",
       "      <td>NOM</td>\n",
       "      <td>GPE</td>\n",
       "      <td>GARDEN CITY</td>\n",
       "    </tr>\n",
       "  </tbody>\n",
       "</table>\n",
       "</div>"
      ],
      "text/plain": [
       "   COREF  prop  cat                                               text\n",
       "0      1  PROP  FAC  Wild Seed by Octavia E. Butler WILD SEED KINDR...\n",
       "1      2  PROP  FAC                        Octavia E. Butler WILD SEED\n",
       "2      0  PRON  PER                                                 MY\n",
       "3      3  PROP  FAC    Wild Seed OCTAVIA E. BUTLER DOUBLEDAY & COMPANY\n",
       "4    174   NOM  GPE                                        GARDEN CITY"
      ]
     },
     "execution_count": 210,
     "metadata": {},
     "output_type": "execute_result"
    }
   ],
   "source": [
    "entities_df.head()"
   ]
  },
  {
   "cell_type": "code",
   "execution_count": 211,
   "metadata": {},
   "outputs": [],
   "source": [
    "lhd_entit = pd.read_csv('data/dan_booknlp/mdp.39015052467530/mdp.39015052467530.entities', sep='\\t')\n",
    "lhd_entit.drop(['start_token', 'end_token'], axis=1, inplace=True)  # drop because it complicates what counts as a unique row"
   ]
  },
  {
   "cell_type": "code",
   "execution_count": 212,
   "metadata": {},
   "outputs": [
    {
     "data": {
      "text/html": [
       "<div>\n",
       "<style scoped>\n",
       "    .dataframe tbody tr th:only-of-type {\n",
       "        vertical-align: middle;\n",
       "    }\n",
       "\n",
       "    .dataframe tbody tr th {\n",
       "        vertical-align: top;\n",
       "    }\n",
       "\n",
       "    .dataframe thead th {\n",
       "        text-align: right;\n",
       "    }\n",
       "</style>\n",
       "<table border=\"1\" class=\"dataframe\">\n",
       "  <thead>\n",
       "    <tr style=\"text-align: right;\">\n",
       "      <th></th>\n",
       "      <th>COREF</th>\n",
       "      <th>prop</th>\n",
       "      <th>cat</th>\n",
       "      <th>text</th>\n",
       "    </tr>\n",
       "  </thead>\n",
       "  <tbody>\n",
       "    <tr>\n",
       "      <th>0</th>\n",
       "      <td>584</td>\n",
       "      <td>NOM</td>\n",
       "      <td>FAC</td>\n",
       "      <td>NIVERS THE UN CHIGAN • LIBRE BRARIES THE LEFT ...</td>\n",
       "    </tr>\n",
       "    <tr>\n",
       "      <th>1</th>\n",
       "      <td>1</td>\n",
       "      <td>PROP</td>\n",
       "      <td>FAC</td>\n",
       "      <td>URSULA K. LEGUIN WALKER AND COMPANY New York UGL</td>\n",
       "    </tr>\n",
       "    <tr>\n",
       "      <th>2</th>\n",
       "      <td>374</td>\n",
       "      <td>PROP</td>\n",
       "      <td>PER</td>\n",
       "      <td>Ursula</td>\n",
       "    </tr>\n",
       "    <tr>\n",
       "      <th>3</th>\n",
       "      <td>2</td>\n",
       "      <td>PROP</td>\n",
       "      <td>GPE</td>\n",
       "      <td>LeGuin</td>\n",
       "    </tr>\n",
       "    <tr>\n",
       "      <th>4</th>\n",
       "      <td>585</td>\n",
       "      <td>NOM</td>\n",
       "      <td>PER</td>\n",
       "      <td>the Publisher</td>\n",
       "    </tr>\n",
       "  </tbody>\n",
       "</table>\n",
       "</div>"
      ],
      "text/plain": [
       "   COREF  prop  cat                                               text\n",
       "0    584   NOM  FAC  NIVERS THE UN CHIGAN • LIBRE BRARIES THE LEFT ...\n",
       "1      1  PROP  FAC   URSULA K. LEGUIN WALKER AND COMPANY New York UGL\n",
       "2    374  PROP  PER                                             Ursula\n",
       "3      2  PROP  GPE                                             LeGuin\n",
       "4    585   NOM  PER                                      the Publisher"
      ]
     },
     "execution_count": 212,
     "metadata": {},
     "output_type": "execute_result"
    }
   ],
   "source": [
    "lhd_entit.head()"
   ]
  },
  {
   "cell_type": "code",
   "execution_count": 213,
   "metadata": {},
   "outputs": [
    {
     "data": {
      "text/html": [
       "<div>\n",
       "<style scoped>\n",
       "    .dataframe tbody tr th:only-of-type {\n",
       "        vertical-align: middle;\n",
       "    }\n",
       "\n",
       "    .dataframe tbody tr th {\n",
       "        vertical-align: top;\n",
       "    }\n",
       "\n",
       "    .dataframe thead th {\n",
       "        text-align: right;\n",
       "    }\n",
       "</style>\n",
       "<table border=\"1\" class=\"dataframe\">\n",
       "  <thead>\n",
       "    <tr style=\"text-align: right;\">\n",
       "      <th></th>\n",
       "      <th>COREF</th>\n",
       "      <th>prop</th>\n",
       "      <th>cat</th>\n",
       "      <th>text</th>\n",
       "      <th>title</th>\n",
       "      <th>year</th>\n",
       "      <th>language</th>\n",
       "      <th>authors</th>\n",
       "      <th>author_gender</th>\n",
       "      <th>trans</th>\n",
       "      <th>...</th>\n",
       "      <th>g.inference.he/him/his</th>\n",
       "      <th>g.inference.she/her</th>\n",
       "      <th>g.inference.they/them/their</th>\n",
       "      <th>g.inference.xe/xem/xyr/xir</th>\n",
       "      <th>g.inference.ze/zem/zir/hir</th>\n",
       "      <th>g.argmax</th>\n",
       "      <th>g.max</th>\n",
       "      <th>mentions.proper</th>\n",
       "      <th>filename</th>\n",
       "      <th>count</th>\n",
       "    </tr>\n",
       "  </thead>\n",
       "  <tbody>\n",
       "    <tr>\n",
       "      <th>0</th>\n",
       "      <td>586</td>\n",
       "      <td>NOM</td>\n",
       "      <td>GPE</td>\n",
       "      <td>the United States of America</td>\n",
       "      <td>Woman on the edge of time / Marge Piercy.</td>\n",
       "      <td>1976.0</td>\n",
       "      <td>eng</td>\n",
       "      <td>Piercy, Marge</td>\n",
       "      <td>she/her</td>\n",
       "      <td>no</td>\n",
       "      <td>...</td>\n",
       "      <td>0.012</td>\n",
       "      <td>0.731</td>\n",
       "      <td>0.239</td>\n",
       "      <td>0.009</td>\n",
       "      <td>0.009</td>\n",
       "      <td>she/her</td>\n",
       "      <td>0.731</td>\n",
       "      <td>[{'c': 24, 'n': 'Parra'}]</td>\n",
       "      <td>mdp.39015000244577</td>\n",
       "      <td>96</td>\n",
       "    </tr>\n",
       "    <tr>\n",
       "      <th>1</th>\n",
       "      <td>586</td>\n",
       "      <td>NOM</td>\n",
       "      <td>GPE</td>\n",
       "      <td>the United States of America</td>\n",
       "      <td>Woman on the edge of time / Marge Piercy.</td>\n",
       "      <td>1976.0</td>\n",
       "      <td>eng</td>\n",
       "      <td>Piercy, Marge</td>\n",
       "      <td>she/her</td>\n",
       "      <td>no</td>\n",
       "      <td>...</td>\n",
       "      <td>0.012</td>\n",
       "      <td>0.731</td>\n",
       "      <td>0.239</td>\n",
       "      <td>0.009</td>\n",
       "      <td>0.009</td>\n",
       "      <td>she/her</td>\n",
       "      <td>0.731</td>\n",
       "      <td>[{'c': 24, 'n': 'Parra'}]</td>\n",
       "      <td>mdp.39015000244577</td>\n",
       "      <td>96</td>\n",
       "    </tr>\n",
       "    <tr>\n",
       "      <th>2</th>\n",
       "      <td>589</td>\n",
       "      <td>NOM</td>\n",
       "      <td>FAC</td>\n",
       "      <td>The Place Inside the Blizzard</td>\n",
       "      <td>Children of God : a novel / Mary Doria Russell.</td>\n",
       "      <td>1998.0</td>\n",
       "      <td>eng</td>\n",
       "      <td>Russell, Mary Doria 1950-</td>\n",
       "      <td>she/her</td>\n",
       "      <td>no</td>\n",
       "      <td>...</td>\n",
       "      <td>0.095</td>\n",
       "      <td>0.504</td>\n",
       "      <td>0.357</td>\n",
       "      <td>0.021</td>\n",
       "      <td>0.022</td>\n",
       "      <td>she/her</td>\n",
       "      <td>0.504</td>\n",
       "      <td>[{'c': 25, 'n': 'Danny'}, {'c': 8, 'n': 'Dani'...</td>\n",
       "      <td>mdp.39015047519965</td>\n",
       "      <td>52</td>\n",
       "    </tr>\n",
       "    <tr>\n",
       "      <th>3</th>\n",
       "      <td>589</td>\n",
       "      <td>NOM</td>\n",
       "      <td>FAC</td>\n",
       "      <td>The Place Inside the Blizzard</td>\n",
       "      <td>Memoirs of a spacewoman / Naomi Mitchison.</td>\n",
       "      <td>1985.0</td>\n",
       "      <td>eng</td>\n",
       "      <td>Mitchison, Naomi 1897-1999</td>\n",
       "      <td>she/her</td>\n",
       "      <td>no</td>\n",
       "      <td>...</td>\n",
       "      <td>0.000</td>\n",
       "      <td>0.000</td>\n",
       "      <td>1.000</td>\n",
       "      <td>0.000</td>\n",
       "      <td>0.000</td>\n",
       "      <td>they/them/their</td>\n",
       "      <td>1.000</td>\n",
       "      <td>[]</td>\n",
       "      <td>uc1.32106008566652</td>\n",
       "      <td>58</td>\n",
       "    </tr>\n",
       "    <tr>\n",
       "      <th>4</th>\n",
       "      <td>589</td>\n",
       "      <td>NOM</td>\n",
       "      <td>FAC</td>\n",
       "      <td>The Place Inside the Blizzard</td>\n",
       "      <td>Children of God : a novel / Mary Doria Russell.</td>\n",
       "      <td>1998.0</td>\n",
       "      <td>eng</td>\n",
       "      <td>Russell, Mary Doria 1950-</td>\n",
       "      <td>she/her</td>\n",
       "      <td>no</td>\n",
       "      <td>...</td>\n",
       "      <td>0.095</td>\n",
       "      <td>0.504</td>\n",
       "      <td>0.357</td>\n",
       "      <td>0.021</td>\n",
       "      <td>0.022</td>\n",
       "      <td>she/her</td>\n",
       "      <td>0.504</td>\n",
       "      <td>[{'c': 25, 'n': 'Danny'}, {'c': 8, 'n': 'Dani'...</td>\n",
       "      <td>mdp.39015047519965</td>\n",
       "      <td>52</td>\n",
       "    </tr>\n",
       "  </tbody>\n",
       "</table>\n",
       "<p>5 rows × 22 columns</p>\n",
       "</div>"
      ],
      "text/plain": [
       "   COREF prop  cat                           text  \\\n",
       "0    586  NOM  GPE   the United States of America   \n",
       "1    586  NOM  GPE   the United States of America   \n",
       "2    589  NOM  FAC  The Place Inside the Blizzard   \n",
       "3    589  NOM  FAC  The Place Inside the Blizzard   \n",
       "4    589  NOM  FAC  The Place Inside the Blizzard   \n",
       "\n",
       "                                             title    year language  \\\n",
       "0        Woman on the edge of time / Marge Piercy.  1976.0      eng   \n",
       "1        Woman on the edge of time / Marge Piercy.  1976.0      eng   \n",
       "2  Children of God : a novel / Mary Doria Russell.  1998.0      eng   \n",
       "3       Memoirs of a spacewoman / Naomi Mitchison.  1985.0      eng   \n",
       "4  Children of God : a novel / Mary Doria Russell.  1998.0      eng   \n",
       "\n",
       "                      authors author_gender trans  ... g.inference.he/him/his  \\\n",
       "0               Piercy, Marge       she/her    no  ...                  0.012   \n",
       "1               Piercy, Marge       she/her    no  ...                  0.012   \n",
       "2   Russell, Mary Doria 1950-       she/her    no  ...                  0.095   \n",
       "3  Mitchison, Naomi 1897-1999       she/her    no  ...                  0.000   \n",
       "4   Russell, Mary Doria 1950-       she/her    no  ...                  0.095   \n",
       "\n",
       "   g.inference.she/her  g.inference.they/them/their  \\\n",
       "0                0.731                        0.239   \n",
       "1                0.731                        0.239   \n",
       "2                0.504                        0.357   \n",
       "3                0.000                        1.000   \n",
       "4                0.504                        0.357   \n",
       "\n",
       "   g.inference.xe/xem/xyr/xir  g.inference.ze/zem/zir/hir         g.argmax  \\\n",
       "0                       0.009                       0.009          she/her   \n",
       "1                       0.009                       0.009          she/her   \n",
       "2                       0.021                       0.022          she/her   \n",
       "3                       0.000                       0.000  they/them/their   \n",
       "4                       0.021                       0.022          she/her   \n",
       "\n",
       "   g.max                                    mentions.proper  \\\n",
       "0  0.731                          [{'c': 24, 'n': 'Parra'}]   \n",
       "1  0.731                          [{'c': 24, 'n': 'Parra'}]   \n",
       "2  0.504  [{'c': 25, 'n': 'Danny'}, {'c': 8, 'n': 'Dani'...   \n",
       "3  1.000                                                 []   \n",
       "4  0.504  [{'c': 25, 'n': 'Danny'}, {'c': 8, 'n': 'Dani'...   \n",
       "\n",
       "             filename count  \n",
       "0  mdp.39015000244577    96  \n",
       "1  mdp.39015000244577    96  \n",
       "2  mdp.39015047519965    52  \n",
       "3  uc1.32106008566652    58  \n",
       "4  mdp.39015047519965    52  \n",
       "\n",
       "[5 rows x 22 columns]"
      ]
     },
     "execution_count": 213,
     "metadata": {},
     "output_type": "execute_result"
    }
   ],
   "source": [
    "lhd_chars = lhd_entit.merge(pickle_df, left_on='COREF', right_on='id_y', how='inner')\n",
    "lhd_chars.head()"
   ]
  },
  {
   "cell_type": "code",
   "execution_count": 214,
   "metadata": {},
   "outputs": [
    {
     "data": {
      "text/html": [
       "<div>\n",
       "<style scoped>\n",
       "    .dataframe tbody tr th:only-of-type {\n",
       "        vertical-align: middle;\n",
       "    }\n",
       "\n",
       "    .dataframe tbody tr th {\n",
       "        vertical-align: top;\n",
       "    }\n",
       "\n",
       "    .dataframe thead th {\n",
       "        text-align: right;\n",
       "    }\n",
       "</style>\n",
       "<table border=\"1\" class=\"dataframe\">\n",
       "  <thead>\n",
       "    <tr style=\"text-align: right;\">\n",
       "      <th></th>\n",
       "      <th>text</th>\n",
       "      <th>g.argmax</th>\n",
       "      <th>g.max</th>\n",
       "    </tr>\n",
       "    <tr>\n",
       "      <th>COREF</th>\n",
       "      <th></th>\n",
       "      <th></th>\n",
       "      <th></th>\n",
       "    </tr>\n",
       "  </thead>\n",
       "  <tbody>\n",
       "    <tr>\n",
       "      <th>0</th>\n",
       "      <td>[my, I, me, myself, i, you, your, You, My, you...</td>\n",
       "      <td>he/him/his</td>\n",
       "      <td>0.491</td>\n",
       "    </tr>\n",
       "    <tr>\n",
       "      <th>33</th>\n",
       "      <td>[the Sinoth Valley, Sinoth Valley, the dispute...</td>\n",
       "      <td>he/him/his</td>\n",
       "      <td>0.734</td>\n",
       "    </tr>\n",
       "    <tr>\n",
       "      <th>35</th>\n",
       "      <td>[the high North Fall, the North Fall]</td>\n",
       "      <td>he/him/his</td>\n",
       "      <td>0.758</td>\n",
       "    </tr>\n",
       "    <tr>\n",
       "      <th>37</th>\n",
       "      <td>[Or . goreyn]</td>\n",
       "      <td>he/him/his</td>\n",
       "      <td>0.654</td>\n",
       "    </tr>\n",
       "    <tr>\n",
       "      <th>43</th>\n",
       "      <td>[Cars]</td>\n",
       "      <td>they/them/their</td>\n",
       "      <td>0.981</td>\n",
       "    </tr>\n",
       "  </tbody>\n",
       "</table>\n",
       "</div>"
      ],
      "text/plain": [
       "                                                    text         g.argmax  \\\n",
       "COREF                                                                       \n",
       "0      [my, I, me, myself, i, you, your, You, My, you...       he/him/his   \n",
       "33     [the Sinoth Valley, Sinoth Valley, the dispute...       he/him/his   \n",
       "35                 [the high North Fall, the North Fall]       he/him/his   \n",
       "37                                         [Or . goreyn]       he/him/his   \n",
       "43                                                [Cars]  they/them/their   \n",
       "\n",
       "       g.max  \n",
       "COREF         \n",
       "0      0.491  \n",
       "33     0.734  \n",
       "35     0.758  \n",
       "37     0.654  \n",
       "43     0.981  "
      ]
     },
     "execution_count": 214,
     "metadata": {},
     "output_type": "execute_result"
    }
   ],
   "source": [
    "lhd_unique = lhd_chars.groupby('COREF')[['text', 'g.argmax', 'g.max']].agg({'text':'unique', 'g.argmax':'first', 'g.max':'first'})\n",
    "lhd_unique.head()"
   ]
  },
  {
   "cell_type": "markdown",
   "metadata": {},
   "source": [
    "## Plots of metadata about the books + authors themselves\n",
    "This will plot things like how many books were written by women, in what years, blah blah blah"
   ]
  },
  {
   "cell_type": "code",
   "execution_count": 215,
   "metadata": {},
   "outputs": [
    {
     "data": {
      "image/png": "[encoded data removed]",
      "text/plain": [
       "<Figure size 300x100 with 1 Axes>"
      ]
     },
     "metadata": {},
     "output_type": "display_data"
    }
   ],
   "source": [
    "sns.set_theme(style='darkgrid')\n",
    "sns.palplot(sns.color_palette(\"deep\", 3))"
   ]
  },
  {
   "cell_type": "code",
   "execution_count": 216,
   "metadata": {},
   "outputs": [
    {
     "data": {
      "text/plain": [
       "[Text(0.5, 1.0, 'Total Characters by Year')]"
      ]
     },
     "execution_count": 216,
     "metadata": {},
     "output_type": "execute_result"
    },
    {
     "data": {
      "image/png": "[encoded data removed]",
      "text/plain": [
       "<Figure size 640x480 with 1 Axes>"
      ]
     },
     "metadata": {},
     "output_type": "display_data"
    }
   ],
   "source": [
    "sns.histplot(pickle_df, x=\"year\", hue=\"author_gender\", multiple=\"stack\", stat=\"count\").set(title='Total Characters by Year')\n",
    "\n",
    "# note one book written by a trans author (identifies as she/her -- written in 1993)"
   ]
  },
  {
   "cell_type": "markdown",
   "metadata": {},
   "source": [
    "## Plot Gender Inferences for Main Characters\n",
    "plots of gender proportions across all books and gender counts. also a plot of author gender vs character gender (maybe)"
   ]
  },
  {
   "cell_type": "code",
   "execution_count": 217,
   "metadata": {},
   "outputs": [],
   "source": [
    "#create dataframes that segment by author gender\n",
    "women_auth_df = pickle_df[pickle_df['author_gender'] == 'she/her']\n",
    "men_auth_df = pickle_df[pickle_df['author_gender'] == 'he/him']\n",
    "trans_auth_df = pickle_df[pickle_df['trans'] == 'yes']\n",
    "\n",
    "#notes: these colors need to be consistent throughout. also need to add titles and explanations"
   ]
  },
  {
   "cell_type": "code",
   "execution_count": 218,
   "metadata": {},
   "outputs": [
    {
     "data": {
      "text/plain": [
       "[Text(0.5, 1.0, 'Character Gender Breakdown for Female Authors')]"
      ]
     },
     "execution_count": 218,
     "metadata": {},
     "output_type": "execute_result"
    },
    {
     "data": {
      "image/png": "[encoded data removed]",
      "text/plain": [
       "<Figure size 640x480 with 1 Axes>"
      ]
     },
     "metadata": {},
     "output_type": "display_data"
    }
   ],
   "source": [
    "# characters by women authors\n",
    "\n",
    "sns.histplot(women_auth_df, x=\"year\", hue=\"g.argmax\", multiple=\"stack\", stat=\"proportion\").set(title='Character Gender Breakdown for Female Authors')"
   ]
  },
  {
   "cell_type": "code",
   "execution_count": 219,
   "metadata": {},
   "outputs": [
    {
     "data": {
      "text/plain": [
       "[Text(0.5, 1.0, 'Character Gender Breakdown for Male Authors')]"
      ]
     },
     "execution_count": 219,
     "metadata": {},
     "output_type": "execute_result"
    },
    {
     "data": {
      "image/png": "[encoded data removed]",
      "text/plain": [
       "<Figure size 640x480 with 1 Axes>"
      ]
     },
     "metadata": {},
     "output_type": "display_data"
    }
   ],
   "source": [
    "# characters by men authors\n",
    "\n",
    "sns.histplot(men_auth_df, x=\"year\", hue=\"g.argmax\", multiple=\"stack\", stat=\"proportion\").set(title='Character Gender Breakdown for Male Authors')"
   ]
  },
  {
   "cell_type": "code",
   "execution_count": 220,
   "metadata": {},
   "outputs": [
    {
     "data": {
      "text/plain": [
       "[Text(0.5, 1.0, 'Character Gender Breakdown for Trans Authors')]"
      ]
     },
     "execution_count": 220,
     "metadata": {},
     "output_type": "execute_result"
    },
    {
     "data": {
      "image/png": "[encoded data removed]",
      "text/plain": [
       "<Figure size 640x480 with 1 Axes>"
      ]
     },
     "metadata": {},
     "output_type": "display_data"
    }
   ],
   "source": [
    "# characters by trans authors\n",
    "\n",
    "sns.histplot(trans_auth_df, x=\"year\", hue=\"g.argmax\", multiple=\"stack\", stat=\"proportion\").set(title='Character Gender Breakdown for Trans Authors')"
   ]
  },
  {
   "cell_type": "markdown",
   "metadata": {},
   "source": [
    "As part of our analysis, we created a dataset that recorded the gender of forty-two characters across twenty novels. While we tried to focus on non-binary or gender-fluid characters, we also included in our dataset the main characters of the novels. We do this to begin to test the accuracy of BookNLP's gender inference probability."
   ]
  },
  {
   "cell_type": "code",
   "execution_count": 221,
   "metadata": {},
   "outputs": [
    {
     "data": {
      "text/html": [
       "<div>\n",
       "<style scoped>\n",
       "    .dataframe tbody tr th:only-of-type {\n",
       "        vertical-align: middle;\n",
       "    }\n",
       "\n",
       "    .dataframe tbody tr th {\n",
       "        vertical-align: top;\n",
       "    }\n",
       "\n",
       "    .dataframe thead th {\n",
       "        text-align: right;\n",
       "    }\n",
       "</style>\n",
       "<table border=\"1\" class=\"dataframe\">\n",
       "  <thead>\n",
       "    <tr style=\"text-align: right;\">\n",
       "      <th></th>\n",
       "      <th>character</th>\n",
       "      <th>character_gender</th>\n",
       "      <th>description</th>\n",
       "      <th>book_id</th>\n",
       "      <th>title</th>\n",
       "      <th>year</th>\n",
       "      <th>language</th>\n",
       "      <th>authors</th>\n",
       "      <th>notes</th>\n",
       "    </tr>\n",
       "  </thead>\n",
       "  <tbody>\n",
       "    <tr>\n",
       "      <th>0</th>\n",
       "      <td>Charlie Johns</td>\n",
       "      <td>he/him</td>\n",
       "      <td>man</td>\n",
       "      <td>mdp.39015014854346</td>\n",
       "      <td>Venus plus X / Theodore Sturgeon.</td>\n",
       "      <td>1960</td>\n",
       "      <td>eng</td>\n",
       "      <td>Sturgeon, Theodore</td>\n",
       "      <td>future utopia one neutered gender</td>\n",
       "    </tr>\n",
       "    <tr>\n",
       "      <th>1</th>\n",
       "      <td>Seace</td>\n",
       "      <td>he/him</td>\n",
       "      <td>gender-neutral</td>\n",
       "      <td>mdp.39015014854346</td>\n",
       "      <td>Venus plus X / Theodore Sturgeon.</td>\n",
       "      <td>1960</td>\n",
       "      <td>eng</td>\n",
       "      <td>Sturgeon, Theodore</td>\n",
       "      <td>future utopia one neutered gender</td>\n",
       "    </tr>\n",
       "    <tr>\n",
       "      <th>2</th>\n",
       "      <td>Philos</td>\n",
       "      <td>he/him</td>\n",
       "      <td>gender-neutral</td>\n",
       "      <td>mdp.39015014854346</td>\n",
       "      <td>Venus plus X / Theodore Sturgeon.</td>\n",
       "      <td>1960</td>\n",
       "      <td>eng</td>\n",
       "      <td>Sturgeon, Theodore</td>\n",
       "      <td>future utopia one neutered gender</td>\n",
       "    </tr>\n",
       "    <tr>\n",
       "      <th>3</th>\n",
       "      <td>Marian MacAlpin</td>\n",
       "      <td>she/her</td>\n",
       "      <td>woman</td>\n",
       "      <td>mdp.39015004274349</td>\n",
       "      <td>The edible woman [by] Margaret Atwood.</td>\n",
       "      <td>1969</td>\n",
       "      <td>eng</td>\n",
       "      <td>Atwood, Margaret 1939-</td>\n",
       "      <td>themes of sexual identity loss and alienation</td>\n",
       "    </tr>\n",
       "    <tr>\n",
       "      <th>4</th>\n",
       "      <td>Peter Wollander</td>\n",
       "      <td>he/him</td>\n",
       "      <td>man</td>\n",
       "      <td>mdp.39015004274349</td>\n",
       "      <td>The edible woman [by] Margaret Atwood.</td>\n",
       "      <td>1969</td>\n",
       "      <td>eng</td>\n",
       "      <td>Atwood, Margaret 1939-</td>\n",
       "      <td>themes of sexual identity loss and alienation</td>\n",
       "    </tr>\n",
       "  </tbody>\n",
       "</table>\n",
       "</div>"
      ],
      "text/plain": [
       "         character character_gender     description             book_id  \\\n",
       "0   Charlie Johns            he/him             man  mdp.39015014854346   \n",
       "1            Seace           he/him  gender-neutral  mdp.39015014854346   \n",
       "2           Philos           he/him  gender-neutral  mdp.39015014854346   \n",
       "3  Marian MacAlpin          she/her           woman  mdp.39015004274349   \n",
       "4  Peter Wollander           he/him             man  mdp.39015004274349   \n",
       "\n",
       "                                    title  year language  \\\n",
       "0       Venus plus X / Theodore Sturgeon.  1960      eng   \n",
       "1       Venus plus X / Theodore Sturgeon.  1960      eng   \n",
       "2       Venus plus X / Theodore Sturgeon.  1960      eng   \n",
       "3  The edible woman [by] Margaret Atwood.  1969      eng   \n",
       "4  The edible woman [by] Margaret Atwood.  1969      eng   \n",
       "\n",
       "                  authors                                          notes  \n",
       "0      Sturgeon, Theodore              future utopia one neutered gender  \n",
       "1      Sturgeon, Theodore              future utopia one neutered gender  \n",
       "2      Sturgeon, Theodore              future utopia one neutered gender  \n",
       "3  Atwood, Margaret 1939-  themes of sexual identity loss and alienation  \n",
       "4  Atwood, Margaret 1939-  themes of sexual identity loss and alienation  "
      ]
     },
     "execution_count": 221,
     "metadata": {},
     "output_type": "execute_result"
    }
   ],
   "source": [
    "hc_df = pd.read_csv('data/HT_speculative_fiction_handcoded.csv')\n",
    "hc_df.head()"
   ]
  },
  {
   "cell_type": "code",
   "execution_count": 222,
   "metadata": {},
   "outputs": [],
   "source": [
    "pickle_df.rename(columns = {'mentions.proper':'mentions_proper'}, inplace = True)"
   ]
  },
  {
   "cell_type": "code",
   "execution_count": 223,
   "metadata": {},
   "outputs": [],
   "source": [
    "def get_name(mentions_proper):\n",
    "    try:\n",
    "        return mentions_proper[0]['n']\n",
    "    except IndexError:\n",
    "        return None\n",
    "\n",
    "pickle_df['name'] = pickle_df.mentions_proper.apply(get_name)"
   ]
  },
  {
   "cell_type": "code",
   "execution_count": 224,
   "metadata": {},
   "outputs": [],
   "source": [
    "characters_str = '|'.join(hc_df['character'].tolist())"
   ]
  },
  {
   "cell_type": "code",
   "execution_count": 225,
   "metadata": {},
   "outputs": [],
   "source": [
    "mask = pickle_df['name'].str.contains(characters_str)\n",
    "mask = mask.fillna(False)\n",
    "prop_df_inter = pickle_df[mask]\n",
    "prop_df = hc_df.merge(prop_df_inter, left_on='character', right_on='name', how='left')"
   ]
  },
  {
   "cell_type": "code",
   "execution_count": 226,
   "metadata": {},
   "outputs": [],
   "source": [
    "prop_df = prop_df[['character', 'description', 'character_gender', 'title_x', 'year_x', 'name', 'g.max', 'g.argmax']]"
   ]
  },
  {
   "cell_type": "markdown",
   "metadata": {},
   "source": [
    "The results of our hand-encoded data are inconclusive. According to our analysis, BookNLP is over 95% accurate in calculating gender based on pronouns. However, our data do not produce enough results to draw signifcant conclusions. We only encoded the genders of 42 characters, and could not locate 16 of them. Resultantly, we only had 26 data points to work with. Please see those in the data below."
   ]
  },
  {
   "cell_type": "code",
   "execution_count": 236,
   "metadata": {},
   "outputs": [
    {
     "data": {
      "text/html": [
       "<div>\n",
       "<style scoped>\n",
       "    .dataframe tbody tr th:only-of-type {\n",
       "        vertical-align: middle;\n",
       "    }\n",
       "\n",
       "    .dataframe tbody tr th {\n",
       "        vertical-align: top;\n",
       "    }\n",
       "\n",
       "    .dataframe thead th {\n",
       "        text-align: right;\n",
       "    }\n",
       "</style>\n",
       "<table border=\"1\" class=\"dataframe\">\n",
       "  <thead>\n",
       "    <tr style=\"text-align: right;\">\n",
       "      <th></th>\n",
       "      <th>character</th>\n",
       "      <th>description</th>\n",
       "      <th>character_gender</th>\n",
       "      <th>title_x</th>\n",
       "      <th>year_x</th>\n",
       "      <th>name</th>\n",
       "      <th>g.max</th>\n",
       "      <th>g.argmax</th>\n",
       "    </tr>\n",
       "  </thead>\n",
       "  <tbody>\n",
       "    <tr>\n",
       "      <th>0</th>\n",
       "      <td>Charlie Johns</td>\n",
       "      <td>man</td>\n",
       "      <td>he/him</td>\n",
       "      <td>Venus plus X / Theodore Sturgeon.</td>\n",
       "      <td>1960</td>\n",
       "      <td>NaN</td>\n",
       "      <td>NaN</td>\n",
       "      <td>NaN</td>\n",
       "    </tr>\n",
       "    <tr>\n",
       "      <th>1</th>\n",
       "      <td>Seace</td>\n",
       "      <td>gender-neutral</td>\n",
       "      <td>he/him</td>\n",
       "      <td>Venus plus X / Theodore Sturgeon.</td>\n",
       "      <td>1960</td>\n",
       "      <td>Seace</td>\n",
       "      <td>0.647</td>\n",
       "      <td>he/him/his</td>\n",
       "    </tr>\n",
       "    <tr>\n",
       "      <th>2</th>\n",
       "      <td>Philos</td>\n",
       "      <td>gender-neutral</td>\n",
       "      <td>he/him</td>\n",
       "      <td>Venus plus X / Theodore Sturgeon.</td>\n",
       "      <td>1960</td>\n",
       "      <td>Philos</td>\n",
       "      <td>0.724</td>\n",
       "      <td>he/him/his</td>\n",
       "    </tr>\n",
       "    <tr>\n",
       "      <th>3</th>\n",
       "      <td>Marian MacAlpin</td>\n",
       "      <td>woman</td>\n",
       "      <td>she/her</td>\n",
       "      <td>The edible woman [by] Margaret Atwood.</td>\n",
       "      <td>1969</td>\n",
       "      <td>NaN</td>\n",
       "      <td>NaN</td>\n",
       "      <td>NaN</td>\n",
       "    </tr>\n",
       "    <tr>\n",
       "      <th>4</th>\n",
       "      <td>Peter Wollander</td>\n",
       "      <td>man</td>\n",
       "      <td>he/him</td>\n",
       "      <td>The edible woman [by] Margaret Atwood.</td>\n",
       "      <td>1969</td>\n",
       "      <td>NaN</td>\n",
       "      <td>NaN</td>\n",
       "      <td>NaN</td>\n",
       "    </tr>\n",
       "  </tbody>\n",
       "</table>\n",
       "</div>"
      ],
      "text/plain": [
       "         character     description character_gender  \\\n",
       "0   Charlie Johns              man           he/him   \n",
       "1            Seace  gender-neutral           he/him   \n",
       "2           Philos  gender-neutral           he/him   \n",
       "3  Marian MacAlpin           woman          she/her   \n",
       "4  Peter Wollander             man           he/him   \n",
       "\n",
       "                                  title_x  year_x    name  g.max    g.argmax  \n",
       "0       Venus plus X / Theodore Sturgeon.    1960     NaN    NaN         NaN  \n",
       "1       Venus plus X / Theodore Sturgeon.    1960   Seace  0.647  he/him/his  \n",
       "2       Venus plus X / Theodore Sturgeon.    1960  Philos  0.724  he/him/his  \n",
       "3  The edible woman [by] Margaret Atwood.    1969     NaN    NaN         NaN  \n",
       "4  The edible woman [by] Margaret Atwood.    1969     NaN    NaN         NaN  "
      ]
     },
     "execution_count": 236,
     "metadata": {},
     "output_type": "execute_result"
    }
   ],
   "source": [
    "prop_df.head()"
   ]
  },
  {
   "cell_type": "markdown",
   "metadata": {},
   "source": [
    "## Case studies\n",
    "\n",
    "### Left Hand of Darkness\n",
    "The next few cells are focused on one book: _The Left Hand of Darkness_ by Ursula K. LeGuin. This is a famous example of a book with characters who can change sex as an adult. In this book, however, she refers to the main character with male pronouns. We want to step through a bit of basic verification to see what this looks like. The three characters we are pulling are Genly, an exclusively male character, Estraven, an alien who can change sex but uses male pronouns in the book, and King Argaven, a \"male\" alien who carries a pregnancy."
   ]
  },
  {
   "cell_type": "code",
   "execution_count": 228,
   "metadata": {},
   "outputs": [],
   "source": [
    "lhd_df = pickle_df[pickle_df['title']=='The left hand of darkness / by Ursula K. LeGuin.']\n",
    "lhd_chars_list = ['Estraven', 'Argaven','Genly Ai']\n",
    "lhd_chars = analysis.get_character_refs(lhd_chars_list, lhd_entit)"
   ]
  },
  {
   "cell_type": "code",
   "execution_count": 229,
   "metadata": {},
   "outputs": [
    {
     "data": {
      "text/html": [
       "<div>\n",
       "<style scoped>\n",
       "    .dataframe tbody tr th:only-of-type {\n",
       "        vertical-align: middle;\n",
       "    }\n",
       "\n",
       "    .dataframe tbody tr th {\n",
       "        vertical-align: top;\n",
       "    }\n",
       "\n",
       "    .dataframe thead th {\n",
       "        text-align: right;\n",
       "    }\n",
       "</style>\n",
       "<table border=\"1\" class=\"dataframe\">\n",
       "  <thead>\n",
       "    <tr style=\"text-align: right;\">\n",
       "      <th></th>\n",
       "      <th>text</th>\n",
       "      <th>g.argmax</th>\n",
       "      <th>g.max</th>\n",
       "    </tr>\n",
       "    <tr>\n",
       "      <th>COREF</th>\n",
       "      <th></th>\n",
       "      <th></th>\n",
       "      <th></th>\n",
       "    </tr>\n",
       "  </thead>\n",
       "  <tbody>\n",
       "    <tr>\n",
       "      <th>376</th>\n",
       "      <td>[Genly Ai, Genly, Poor Genly, he, Ai, his, him...</td>\n",
       "      <td>he/him/his</td>\n",
       "      <td>0.973</td>\n",
       "    </tr>\n",
       "    <tr>\n",
       "      <th>377</th>\n",
       "      <td>[King Argaven XV , in white tunic and shirt an...</td>\n",
       "      <td>he/him/his</td>\n",
       "      <td>0.856</td>\n",
       "    </tr>\n",
       "    <tr>\n",
       "      <th>384</th>\n",
       "      <td>[Mr. Ai, you, yours, your, You, Envoy, I, my, ...</td>\n",
       "      <td>he/him/his</td>\n",
       "      <td>0.811</td>\n",
       "    </tr>\n",
       "    <tr>\n",
       "      <th>385</th>\n",
       "      <td>[Estraven the Traitor, Lord Estraven, his, Est...</td>\n",
       "      <td>he/him/his</td>\n",
       "      <td>0.805</td>\n",
       "    </tr>\n",
       "    <tr>\n",
       "      <th>397</th>\n",
       "      <td>[Gethen, Karhide, Argaven, he, him, his, King ...</td>\n",
       "      <td>he/him/his</td>\n",
       "      <td>0.856</td>\n",
       "    </tr>\n",
       "  </tbody>\n",
       "</table>\n",
       "</div>"
      ],
      "text/plain": [
       "                                                    text    g.argmax  g.max\n",
       "COREF                                                                      \n",
       "376    [Genly Ai, Genly, Poor Genly, he, Ai, his, him...  he/him/his  0.973\n",
       "377    [King Argaven XV , in white tunic and shirt an...  he/him/his  0.856\n",
       "384    [Mr. Ai, you, yours, your, You, Envoy, I, my, ...  he/him/his  0.811\n",
       "385    [Estraven the Traitor, Lord Estraven, his, Est...  he/him/his  0.805\n",
       "397    [Gethen, Karhide, Argaven, he, him, his, King ...  he/him/his  0.856"
      ]
     },
     "execution_count": 229,
     "metadata": {},
     "output_type": "execute_result"
    }
   ],
   "source": [
    "lhd_final = analysis.combine_book_and_entity(lhd_chars, lhd_df)\n",
    "lhd_final"
   ]
  },
  {
   "cell_type": "markdown",
   "metadata": {},
   "source": [
    "We can see in the final entity table that these three characters have 5 references associated with them. Only Estraven is correctly identified as being one character across his different suffixes and prefixes. The characters are \"correctly\" associated as he/him, since that is how the text refers to them. But it is perhaps interesting to note that Genly, the human-esque male character, has the highest confidence in the list with his COREF number 376. "
   ]
  },
  {
   "cell_type": "markdown",
   "metadata": {},
   "source": [
    "### Woman on the Edge of Time\n",
    "Some of the characters in this story are notably genderless, with the author using per/person as pronouns. These neo-pronouns are not in the list that BookNLP generates. Therefore we want to know, how are these characters showing up?"
   ]
  },
  {
   "cell_type": "code",
   "execution_count": 230,
   "metadata": {},
   "outputs": [],
   "source": [
    "### to be fixed later\n",
    "wet_entit = pd.read_csv('data/dan_booknlp/mdp.39015000244577/mdp.39015000244577.entities', sep='\\t')\n",
    "wet_entit.drop(['start_token', 'end_token'], axis=1, inplace=True)  # drop because it complicates what counts as a unique row"
   ]
  },
  {
   "cell_type": "code",
   "execution_count": 231,
   "metadata": {},
   "outputs": [],
   "source": [
    "wet_df = pickle_df[pickle_df['title']=='Woman on the edge of time / Marge Piercy.']\n",
    "wet_chars_list = ['Luciente', 'Jackrabbit', 'Connie']\n",
    "wet_chars = analysis.get_character_refs(wet_chars_list, wet_entit)"
   ]
  },
  {
   "cell_type": "code",
   "execution_count": 232,
   "metadata": {},
   "outputs": [
    {
     "data": {
      "text/html": [
       "<div>\n",
       "<style scoped>\n",
       "    .dataframe tbody tr th:only-of-type {\n",
       "        vertical-align: middle;\n",
       "    }\n",
       "\n",
       "    .dataframe tbody tr th {\n",
       "        vertical-align: top;\n",
       "    }\n",
       "\n",
       "    .dataframe thead th {\n",
       "        text-align: right;\n",
       "    }\n",
       "</style>\n",
       "<table border=\"1\" class=\"dataframe\">\n",
       "  <thead>\n",
       "    <tr style=\"text-align: right;\">\n",
       "      <th></th>\n",
       "      <th>text</th>\n",
       "      <th>g.argmax</th>\n",
       "      <th>g.max</th>\n",
       "    </tr>\n",
       "    <tr>\n",
       "      <th>COREF</th>\n",
       "      <th></th>\n",
       "      <th></th>\n",
       "      <th></th>\n",
       "    </tr>\n",
       "  </thead>\n",
       "  <tbody>\n",
       "    <tr>\n",
       "      <th>309</th>\n",
       "      <td>[Luciente, Me, I, Her, you, my, me, My, You, y...</td>\n",
       "      <td>she/her</td>\n",
       "      <td>0.869</td>\n",
       "    </tr>\n",
       "    <tr>\n",
       "      <th>377</th>\n",
       "      <td>[Jackrabbit, this Jackrabbit, He, he, his, I, ...</td>\n",
       "      <td>he/him/his</td>\n",
       "      <td>0.521</td>\n",
       "    </tr>\n",
       "    <tr>\n",
       "      <th>554</th>\n",
       "      <td>[Connie, her, Awkwardly Connie, she, She, you,...</td>\n",
       "      <td>she/her</td>\n",
       "      <td>0.772</td>\n",
       "    </tr>\n",
       "  </tbody>\n",
       "</table>\n",
       "</div>"
      ],
      "text/plain": [
       "                                                    text    g.argmax  g.max\n",
       "COREF                                                                      \n",
       "309    [Luciente, Me, I, Her, you, my, me, My, You, y...     she/her  0.869\n",
       "377    [Jackrabbit, this Jackrabbit, He, he, his, I, ...  he/him/his  0.521\n",
       "554    [Connie, her, Awkwardly Connie, she, She, you,...     she/her  0.772"
      ]
     },
     "execution_count": 232,
     "metadata": {},
     "output_type": "execute_result"
    }
   ],
   "source": [
    "wet_final = analysis.combine_book_and_entity(wet_chars, wet_df)\n",
    "wet_final"
   ]
  },
  {
   "cell_type": "markdown",
   "metadata": {},
   "source": [
    "Here, each character is successfully identified with one reference. Jackrabbit, however, is a genderless character using per/person. This person has been misidentified as \"he/him/his,\" although with low confidence. Interestingly, the text includes explicit references to \"he\" and \"his.\" Luciente is described as androgynous but female, and as such is gendered correctly. Connie is a woman from our time and is also correctly gendered."
   ]
  },
  {
   "cell_type": "markdown",
   "metadata": {},
   "source": [
    "### Wild Seed\n",
    "The main characters of this book are two god-like beings who can inhabit any body (and thus be any gender). There is a feminine character Anyanwu, and a masculine character Doro. Anyanwu is a shapeshifter, while Doro can take over other people's bodies. Their names *should* be consistent throughout the story but pronouns may not be."
   ]
  },
  {
   "cell_type": "code",
   "execution_count": 233,
   "metadata": {},
   "outputs": [],
   "source": [
    "ws_entit = pd.read_csv('data/dan_booknlp/mdp.39015054037372/mdp.39015054037372.entities', sep='\\t')\n",
    "ws_entit.drop(['start_token', 'end_token'], axis=1, inplace=True)  # drop because it complicates what counts as a unique row"
   ]
  },
  {
   "cell_type": "code",
   "execution_count": 234,
   "metadata": {},
   "outputs": [],
   "source": [
    "ws_df = pickle_df[pickle_df['title']=='Wild seed / Octavia E. Butler.']\n",
    "ws_chars_list = ['Doro', 'Anyanwu']\n",
    "ws_chars = analysis.get_character_refs(ws_chars_list, ws_entit)"
   ]
  },
  {
   "cell_type": "code",
   "execution_count": 235,
   "metadata": {},
   "outputs": [
    {
     "data": {
      "text/html": [
       "<div>\n",
       "<style scoped>\n",
       "    .dataframe tbody tr th:only-of-type {\n",
       "        vertical-align: middle;\n",
       "    }\n",
       "\n",
       "    .dataframe tbody tr th {\n",
       "        vertical-align: top;\n",
       "    }\n",
       "\n",
       "    .dataframe thead th {\n",
       "        text-align: right;\n",
       "    }\n",
       "</style>\n",
       "<table border=\"1\" class=\"dataframe\">\n",
       "  <thead>\n",
       "    <tr style=\"text-align: right;\">\n",
       "      <th></th>\n",
       "      <th>text</th>\n",
       "      <th>g.argmax</th>\n",
       "      <th>g.max</th>\n",
       "    </tr>\n",
       "    <tr>\n",
       "      <th>COREF</th>\n",
       "      <th></th>\n",
       "      <th></th>\n",
       "      <th></th>\n",
       "    </tr>\n",
       "  </thead>\n",
       "  <tbody>\n",
       "    <tr>\n",
       "      <th>60</th>\n",
       "      <td>[Doro, he, his, him, He, your, Wild Seed, you,...</td>\n",
       "      <td>he/him/his</td>\n",
       "      <td>0.706</td>\n",
       "    </tr>\n",
       "    <tr>\n",
       "      <th>61</th>\n",
       "      <td>[Anyanwu, She, her, she, herself, Her, Seed, m...</td>\n",
       "      <td>she/her</td>\n",
       "      <td>0.819</td>\n",
       "    </tr>\n",
       "  </tbody>\n",
       "</table>\n",
       "</div>"
      ],
      "text/plain": [
       "                                                    text    g.argmax  g.max\n",
       "COREF                                                                      \n",
       "60     [Doro, he, his, him, He, your, Wild Seed, you,...  he/him/his  0.706\n",
       "61     [Anyanwu, She, her, she, herself, Her, Seed, m...     she/her  0.819"
      ]
     },
     "execution_count": 235,
     "metadata": {},
     "output_type": "execute_result"
    }
   ],
   "source": [
    "ws_final = analysis.combine_book_and_entity(ws_chars, ws_df)\n",
    "ws_final"
   ]
  },
  {
   "cell_type": "markdown",
   "metadata": {},
   "source": [
    "Both of these characters appear to be gendered correctly and identified correctly. It may be difficult to parse out, however, other places in the book where these characters may be referred to by other names."
   ]
  },
  {
   "cell_type": "code",
   "execution_count": null,
   "metadata": {},
   "outputs": [],
   "source": []
  }
 ],
 "metadata": {
  "kernelspec": {
   "display_name": "Python 3 (ipykernel)",
   "language": "python",
   "name": "python3"
  },
  "language_info": {
   "codemirror_mode": {
    "name": "ipython",
    "version": 3
   },
   "file_extension": ".py",
   "mimetype": "text/x-python",
   "name": "python",
   "nbconvert_exporter": "python",
   "pygments_lexer": "ipython3",
   "version": "3.9.6"
  }
 },
 "nbformat": 4,
 "nbformat_minor": 2
}
