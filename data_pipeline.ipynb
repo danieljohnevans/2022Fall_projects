{
 "cells": [
  {
   "cell_type": "markdown",
   "metadata": {},
   "source": [
    "# Title \n",
    "This is where we will describe things, the code, and our project."
   ]
  },
  {
   "cell_type": "code",
   "execution_count": 1,
   "metadata": {},
   "outputs": [],
   "source": [
    "import pandas as pd\n",
    "import numpy as np\n",
    "import json\n",
    "import matplotlib.pyplot as plt"
   ]
  },
  {
   "cell_type": "markdown",
   "metadata": {},
   "source": [
    "## Read in the data\n",
    "our data is 25 books. they are from hathi trust. etc"
   ]
  },
  {
   "cell_type": "markdown",
   "metadata": {},
   "source": [
    "## Preprocess the data we have read in\n",
    "Get main characters per book, note if they have more than one gender associated with them, merge entity and book tables"
   ]
  },
  {
   "cell_type": "markdown",
   "metadata": {},
   "source": [
    "## Plots of metadata about the books + authors themselves\n",
    "This will things like how many books were written by women, in what years, blah blah blah"
   ]
  },
  {
   "cell_type": "markdown",
   "metadata": {},
   "source": [
    "## Plot Gender Inferences for Main Characters\n",
    "plots of gender proportions across all books and gender counts. also a plot of author gender vs character gender (maybe)"
   ]
  },
  {
   "cell_type": "markdown",
   "metadata": {},
   "source": [
    "## Case studies\n",
    "### Left Hand of Darkness\n",
    "genderless aliens. Argaven has 2 she 1 he. Estraven has 1 he 1 she.\n",
    "\n",
    "### Woman on the Edge of Time\n",
    "Some of the characters use per/person as pronouns and are non-gendered. How are these characters showing up?\n",
    "\n",
    "### Wild Seed (maybe)\n",
    "Two god-like beings who can inhabit any body (and thus be any gender). Feminine character Anyanwu and masculine character Doro, names *should* be consistent throughout but pronouns may not be (?)\n"
   ]
  }
 ],
 "metadata": {
  "kernelspec": {
   "display_name": "py",
   "language": "python",
   "name": "myenv"
  },
  "language_info": {
   "codemirror_mode": {
    "name": "ipython",
    "version": 3
   },
   "file_extension": ".py",
   "mimetype": "text/x-python",
   "name": "python",
   "nbconvert_exporter": "python",
   "pygments_lexer": "ipython3",
   "version": "3.10.8"
  }
 },
 "nbformat": 4,
 "nbformat_minor": 2
}
